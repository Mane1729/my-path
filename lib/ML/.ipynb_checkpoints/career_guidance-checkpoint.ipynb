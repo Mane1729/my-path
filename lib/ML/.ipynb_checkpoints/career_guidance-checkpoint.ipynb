{
 "cells": [
  {
   "cell_type": "code",
   "execution_count": 1,
   "id": "2ffbba9c",
   "metadata": {},
   "outputs": [],
   "source": [
    "import numpy as np\n",
    "import pandas as pd\n",
    "from sklearn import preprocessing\n",
    "from sklearn.model_selection import train_test_split\n",
    "from sklearn import metrics \n",
    "from sklearn.metrics import accuracy_score, precision_score, recall_score, f1_score, confusion_matrix\n",
    "from sklearn.ensemble import RandomForestClassifier\n",
    "from sklearn.tree import DecisionTreeClassifier, plot_tree \n",
    "from sklearn import svm\n",
    "from sklearn.neighbors import KNeighborsClassifier\n",
    "from sklearn.ensemble import GradientBoostingClassifier\n",
    "import joblib"
   ]
  },
  {
   "cell_type": "code",
   "execution_count": 2,
   "id": "5dcbf6ed",
   "metadata": {},
   "outputs": [],
   "source": [
    "df = pd.read_csv('career_pred.csv')"
   ]
  },
  {
   "cell_type": "code",
   "execution_count": 3,
   "id": "45ea1018",
   "metadata": {},
   "outputs": [
    {
     "data": {
      "text/html": [
       "<div>\n",
       "<style scoped>\n",
       "    .dataframe tbody tr th:only-of-type {\n",
       "        vertical-align: middle;\n",
       "    }\n",
       "\n",
       "    .dataframe tbody tr th {\n",
       "        vertical-align: top;\n",
       "    }\n",
       "\n",
       "    .dataframe thead th {\n",
       "        text-align: right;\n",
       "    }\n",
       "</style>\n",
       "<table border=\"1\" class=\"dataframe\">\n",
       "  <thead>\n",
       "    <tr style=\"text-align: right;\">\n",
       "      <th></th>\n",
       "      <th>Acedamic percentage in Operating Systems</th>\n",
       "      <th>percentage in Algorithms</th>\n",
       "      <th>Percentage in Programming Concepts</th>\n",
       "      <th>Percentage in Software Engineering</th>\n",
       "      <th>Percentage in Computer Networks</th>\n",
       "      <th>Percentage in Electronics Subjects</th>\n",
       "      <th>Percentage in Computer Architecture</th>\n",
       "      <th>Percentage in Mathematics</th>\n",
       "      <th>Percentage in Communication skills</th>\n",
       "      <th>Hours working per day</th>\n",
       "      <th>...</th>\n",
       "      <th>Interested Type of Books</th>\n",
       "      <th>Salary Range Expected</th>\n",
       "      <th>In a Realtionship?</th>\n",
       "      <th>Gentle or Tuff behaviour?</th>\n",
       "      <th>Management or Technical</th>\n",
       "      <th>Salary/work</th>\n",
       "      <th>hard/smart worker</th>\n",
       "      <th>worked in teams ever?</th>\n",
       "      <th>Introvert</th>\n",
       "      <th>Suggested Job Role</th>\n",
       "    </tr>\n",
       "  </thead>\n",
       "  <tbody>\n",
       "    <tr>\n",
       "      <th>0</th>\n",
       "      <td>69</td>\n",
       "      <td>63</td>\n",
       "      <td>78</td>\n",
       "      <td>87</td>\n",
       "      <td>94</td>\n",
       "      <td>94</td>\n",
       "      <td>87</td>\n",
       "      <td>84</td>\n",
       "      <td>61</td>\n",
       "      <td>9</td>\n",
       "      <td>...</td>\n",
       "      <td>Prayer books</td>\n",
       "      <td>salary</td>\n",
       "      <td>no</td>\n",
       "      <td>stubborn</td>\n",
       "      <td>Management</td>\n",
       "      <td>salary</td>\n",
       "      <td>hard worker</td>\n",
       "      <td>yes</td>\n",
       "      <td>no</td>\n",
       "      <td>Database Developer</td>\n",
       "    </tr>\n",
       "    <tr>\n",
       "      <th>1</th>\n",
       "      <td>78</td>\n",
       "      <td>62</td>\n",
       "      <td>73</td>\n",
       "      <td>60</td>\n",
       "      <td>71</td>\n",
       "      <td>70</td>\n",
       "      <td>73</td>\n",
       "      <td>84</td>\n",
       "      <td>91</td>\n",
       "      <td>12</td>\n",
       "      <td>...</td>\n",
       "      <td>Childrens</td>\n",
       "      <td>salary</td>\n",
       "      <td>yes</td>\n",
       "      <td>gentle</td>\n",
       "      <td>Technical</td>\n",
       "      <td>salary</td>\n",
       "      <td>hard worker</td>\n",
       "      <td>no</td>\n",
       "      <td>yes</td>\n",
       "      <td>Portal Administrator</td>\n",
       "    </tr>\n",
       "    <tr>\n",
       "      <th>2</th>\n",
       "      <td>71</td>\n",
       "      <td>86</td>\n",
       "      <td>91</td>\n",
       "      <td>87</td>\n",
       "      <td>61</td>\n",
       "      <td>81</td>\n",
       "      <td>72</td>\n",
       "      <td>72</td>\n",
       "      <td>94</td>\n",
       "      <td>11</td>\n",
       "      <td>...</td>\n",
       "      <td>Travel</td>\n",
       "      <td>Work</td>\n",
       "      <td>no</td>\n",
       "      <td>stubborn</td>\n",
       "      <td>Management</td>\n",
       "      <td>work</td>\n",
       "      <td>hard worker</td>\n",
       "      <td>no</td>\n",
       "      <td>yes</td>\n",
       "      <td>Portal Administrator</td>\n",
       "    </tr>\n",
       "    <tr>\n",
       "      <th>3</th>\n",
       "      <td>76</td>\n",
       "      <td>87</td>\n",
       "      <td>60</td>\n",
       "      <td>84</td>\n",
       "      <td>89</td>\n",
       "      <td>73</td>\n",
       "      <td>62</td>\n",
       "      <td>88</td>\n",
       "      <td>69</td>\n",
       "      <td>7</td>\n",
       "      <td>...</td>\n",
       "      <td>Romance</td>\n",
       "      <td>Work</td>\n",
       "      <td>yes</td>\n",
       "      <td>gentle</td>\n",
       "      <td>Management</td>\n",
       "      <td>work</td>\n",
       "      <td>smart worker</td>\n",
       "      <td>yes</td>\n",
       "      <td>yes</td>\n",
       "      <td>Systems Security Administrator</td>\n",
       "    </tr>\n",
       "    <tr>\n",
       "      <th>4</th>\n",
       "      <td>92</td>\n",
       "      <td>62</td>\n",
       "      <td>90</td>\n",
       "      <td>67</td>\n",
       "      <td>71</td>\n",
       "      <td>89</td>\n",
       "      <td>73</td>\n",
       "      <td>71</td>\n",
       "      <td>73</td>\n",
       "      <td>4</td>\n",
       "      <td>...</td>\n",
       "      <td>Cookbooks</td>\n",
       "      <td>salary</td>\n",
       "      <td>no</td>\n",
       "      <td>stubborn</td>\n",
       "      <td>Management</td>\n",
       "      <td>work</td>\n",
       "      <td>hard worker</td>\n",
       "      <td>yes</td>\n",
       "      <td>yes</td>\n",
       "      <td>Business Systems Analyst</td>\n",
       "    </tr>\n",
       "  </tbody>\n",
       "</table>\n",
       "<p>5 rows × 39 columns</p>\n",
       "</div>"
      ],
      "text/plain": [
       "   Acedamic percentage in Operating Systems  percentage in Algorithms   \n",
       "0                                        69                        63  \\\n",
       "1                                        78                        62   \n",
       "2                                        71                        86   \n",
       "3                                        76                        87   \n",
       "4                                        92                        62   \n",
       "\n",
       "   Percentage in Programming Concepts  Percentage in Software Engineering   \n",
       "0                                  78                                  87  \\\n",
       "1                                  73                                  60   \n",
       "2                                  91                                  87   \n",
       "3                                  60                                  84   \n",
       "4                                  90                                  67   \n",
       "\n",
       "   Percentage in Computer Networks  Percentage in Electronics Subjects   \n",
       "0                               94                                  94  \\\n",
       "1                               71                                  70   \n",
       "2                               61                                  81   \n",
       "3                               89                                  73   \n",
       "4                               71                                  89   \n",
       "\n",
       "   Percentage in Computer Architecture  Percentage in Mathematics   \n",
       "0                                   87                         84  \\\n",
       "1                                   73                         84   \n",
       "2                                   72                         72   \n",
       "3                                   62                         88   \n",
       "4                                   73                         71   \n",
       "\n",
       "   Percentage in Communication skills  Hours working per day  ...   \n",
       "0                                  61                      9  ...  \\\n",
       "1                                  91                     12  ...   \n",
       "2                                  94                     11  ...   \n",
       "3                                  69                      7  ...   \n",
       "4                                  73                      4  ...   \n",
       "\n",
       "   Interested Type of Books  Salary Range Expected  In a Realtionship?   \n",
       "0              Prayer books                 salary                  no  \\\n",
       "1                 Childrens                 salary                 yes   \n",
       "2                    Travel                   Work                  no   \n",
       "3                   Romance                   Work                 yes   \n",
       "4                 Cookbooks                 salary                  no   \n",
       "\n",
       "   Gentle or Tuff behaviour? Management or Technical Salary/work   \n",
       "0                   stubborn              Management      salary  \\\n",
       "1                     gentle               Technical      salary   \n",
       "2                   stubborn              Management        work   \n",
       "3                     gentle              Management        work   \n",
       "4                   stubborn              Management        work   \n",
       "\n",
       "  hard/smart worker worked in teams ever? Introvert   \n",
       "0       hard worker                   yes        no  \\\n",
       "1       hard worker                    no       yes   \n",
       "2       hard worker                    no       yes   \n",
       "3      smart worker                   yes       yes   \n",
       "4       hard worker                   yes       yes   \n",
       "\n",
       "               Suggested Job Role  \n",
       "0              Database Developer  \n",
       "1            Portal Administrator  \n",
       "2            Portal Administrator  \n",
       "3  Systems Security Administrator  \n",
       "4        Business Systems Analyst  \n",
       "\n",
       "[5 rows x 39 columns]"
      ]
     },
     "execution_count": 3,
     "metadata": {},
     "output_type": "execute_result"
    }
   ],
   "source": [
    "df.head()"
   ]
  },
  {
   "cell_type": "code",
   "execution_count": 4,
   "id": "483e441a",
   "metadata": {},
   "outputs": [
    {
     "data": {
      "text/plain": [
       "Acedamic percentage in Operating Systems     int64\n",
       "percentage in Algorithms                     int64\n",
       "Percentage in Programming Concepts           int64\n",
       "Percentage in Software Engineering           int64\n",
       "Percentage in Computer Networks              int64\n",
       "Percentage in Electronics Subjects           int64\n",
       "Percentage in Computer Architecture          int64\n",
       "Percentage in Mathematics                    int64\n",
       "Percentage in Communication skills           int64\n",
       "Hours working per day                        int64\n",
       "Logical quotient rating                      int64\n",
       "hackathons                                   int64\n",
       "coding skills rating                         int64\n",
       "public speaking points                       int64\n",
       "can work long time before system?           object\n",
       "self-learning capability?                   object\n",
       "Extra-courses did                           object\n",
       "certifications                              object\n",
       "workshops                                   object\n",
       "talenttests taken?                          object\n",
       "olympiads                                   object\n",
       "reading and writing skills                  object\n",
       "memory capability score                     object\n",
       "Interested subjects                         object\n",
       "interested career area                      object\n",
       "Job/Higher Studies?                         object\n",
       "Type of company want to settle in?          object\n",
       "Taken inputs from seniors or elders         object\n",
       "interested in games                         object\n",
       "Interested Type of Books                    object\n",
       "Salary Range Expected                       object\n",
       "In a Realtionship?                          object\n",
       "Gentle or Tuff behaviour?                   object\n",
       "Management or Technical                     object\n",
       "Salary/work                                 object\n",
       "hard/smart worker                           object\n",
       "worked in teams ever?                       object\n",
       "Introvert                                   object\n",
       "Suggested Job Role                          object\n",
       "dtype: object"
      ]
     },
     "execution_count": 4,
     "metadata": {},
     "output_type": "execute_result"
    }
   ],
   "source": [
    "df.dtypes"
   ]
  },
  {
   "cell_type": "code",
   "execution_count": 5,
   "id": "40c94b07",
   "metadata": {},
   "outputs": [],
   "source": [
    "df = df.drop('Acedamic percentage in Operating Systems', axis=1)"
   ]
  },
  {
   "cell_type": "code",
   "execution_count": 6,
   "id": "49f56c53",
   "metadata": {},
   "outputs": [],
   "source": [
    "df = df.drop('percentage in Algorithms', axis=1)"
   ]
  },
  {
   "cell_type": "code",
   "execution_count": 7,
   "id": "8642f5be",
   "metadata": {},
   "outputs": [],
   "source": [
    "df = df.drop('Percentage in Programming Concepts', axis=1)"
   ]
  },
  {
   "cell_type": "code",
   "execution_count": 8,
   "id": "7a926749",
   "metadata": {},
   "outputs": [],
   "source": [
    "df = df.drop('Percentage in Software Engineering', axis=1)"
   ]
  },
  {
   "cell_type": "code",
   "execution_count": 9,
   "id": "42ee01bf",
   "metadata": {},
   "outputs": [],
   "source": [
    "df = df.drop('Percentage in Computer Networks', axis=1)"
   ]
  },
  {
   "cell_type": "code",
   "execution_count": 10,
   "id": "656ad4f9",
   "metadata": {},
   "outputs": [],
   "source": [
    "df = df.drop('Percentage in Electronics Subjects', axis=1)"
   ]
  },
  {
   "cell_type": "code",
   "execution_count": 11,
   "id": "9d0cceb2",
   "metadata": {},
   "outputs": [],
   "source": [
    "df = df.drop('Percentage in Computer Architecture', axis=1)"
   ]
  },
  {
   "cell_type": "code",
   "execution_count": 12,
   "id": "30f54ccb",
   "metadata": {},
   "outputs": [],
   "source": [
    "df = df.drop('Percentage in Mathematics', axis=1)"
   ]
  },
  {
   "cell_type": "code",
   "execution_count": 13,
   "id": "ca47002a",
   "metadata": {},
   "outputs": [],
   "source": [
    "df = df.drop('Percentage in Communication skills', axis=1)"
   ]
  },
  {
   "cell_type": "code",
   "execution_count": 14,
   "id": "1f699cf9",
   "metadata": {},
   "outputs": [],
   "source": [
    "df = df.drop('Logical quotient rating', axis=1)"
   ]
  },
  {
   "cell_type": "code",
   "execution_count": 15,
   "id": "a8bc3595",
   "metadata": {},
   "outputs": [],
   "source": [
    "df = df.drop('hackathons', axis=1)"
   ]
  },
  {
   "cell_type": "code",
   "execution_count": 16,
   "id": "9eb00ee2",
   "metadata": {},
   "outputs": [],
   "source": [
    "df = df.drop('coding skills rating', axis=1)"
   ]
  },
  {
   "cell_type": "code",
   "execution_count": 17,
   "id": "1189230d",
   "metadata": {},
   "outputs": [],
   "source": [
    "df = df.drop('can work long time before system?', axis=1)"
   ]
  },
  {
   "cell_type": "code",
   "execution_count": 18,
   "id": "c29aa075",
   "metadata": {},
   "outputs": [],
   "source": [
    "df = df.drop('certifications', axis=1)"
   ]
  },
  {
   "cell_type": "code",
   "execution_count": 19,
   "id": "7708a239",
   "metadata": {},
   "outputs": [],
   "source": [
    "df = df.drop('workshops', axis=1)"
   ]
  },
  {
   "cell_type": "code",
   "execution_count": 20,
   "id": "abf9e7b0",
   "metadata": {},
   "outputs": [],
   "source": [
    "df = df.drop('talenttests taken?', axis=1)"
   ]
  },
  {
   "cell_type": "code",
   "execution_count": 21,
   "id": "d46b7b37",
   "metadata": {},
   "outputs": [],
   "source": [
    "df = df.drop('olympiads', axis=1)"
   ]
  },
  {
   "cell_type": "code",
   "execution_count": 22,
   "id": "3841d4bb",
   "metadata": {},
   "outputs": [],
   "source": [
    "df = df.drop('interested career area ', axis=1)"
   ]
  },
  {
   "cell_type": "code",
   "execution_count": 23,
   "id": "76f6ee1e",
   "metadata": {},
   "outputs": [],
   "source": [
    "df = df.drop('Job/Higher Studies?', axis=1)"
   ]
  },
  {
   "cell_type": "code",
   "execution_count": 24,
   "id": "56b766d2",
   "metadata": {},
   "outputs": [],
   "source": [
    "df = df.drop('Type of company want to settle in?', axis=1)"
   ]
  },
  {
   "cell_type": "code",
   "execution_count": 25,
   "id": "6ad4a714",
   "metadata": {},
   "outputs": [],
   "source": [
    "df = df.drop('Taken inputs from seniors or elders', axis=1)"
   ]
  },
  {
   "cell_type": "code",
   "execution_count": 26,
   "id": "73e196d7",
   "metadata": {},
   "outputs": [],
   "source": [
    "df = df.drop('Salary Range Expected', axis=1)"
   ]
  },
  {
   "cell_type": "code",
   "execution_count": 27,
   "id": "006ce24f",
   "metadata": {},
   "outputs": [],
   "source": [
    "df = df.drop('In a Realtionship?', axis=1)"
   ]
  },
  {
   "cell_type": "code",
   "execution_count": 28,
   "id": "102172a7",
   "metadata": {},
   "outputs": [
    {
     "data": {
      "text/html": [
       "<div>\n",
       "<style scoped>\n",
       "    .dataframe tbody tr th:only-of-type {\n",
       "        vertical-align: middle;\n",
       "    }\n",
       "\n",
       "    .dataframe tbody tr th {\n",
       "        vertical-align: top;\n",
       "    }\n",
       "\n",
       "    .dataframe thead th {\n",
       "        text-align: right;\n",
       "    }\n",
       "</style>\n",
       "<table border=\"1\" class=\"dataframe\">\n",
       "  <thead>\n",
       "    <tr style=\"text-align: right;\">\n",
       "      <th></th>\n",
       "      <th>Hours working per day</th>\n",
       "      <th>public speaking points</th>\n",
       "      <th>self-learning capability?</th>\n",
       "      <th>Extra-courses did</th>\n",
       "      <th>reading and writing skills</th>\n",
       "      <th>memory capability score</th>\n",
       "      <th>Interested subjects</th>\n",
       "      <th>interested in games</th>\n",
       "      <th>Interested Type of Books</th>\n",
       "      <th>Gentle or Tuff behaviour?</th>\n",
       "      <th>Management or Technical</th>\n",
       "      <th>Salary/work</th>\n",
       "      <th>hard/smart worker</th>\n",
       "      <th>worked in teams ever?</th>\n",
       "      <th>Introvert</th>\n",
       "      <th>Suggested Job Role</th>\n",
       "    </tr>\n",
       "  </thead>\n",
       "  <tbody>\n",
       "    <tr>\n",
       "      <th>0</th>\n",
       "      <td>9</td>\n",
       "      <td>8</td>\n",
       "      <td>yes</td>\n",
       "      <td>yes</td>\n",
       "      <td>excellent</td>\n",
       "      <td>excellent</td>\n",
       "      <td>cloud computing</td>\n",
       "      <td>no</td>\n",
       "      <td>Prayer books</td>\n",
       "      <td>stubborn</td>\n",
       "      <td>Management</td>\n",
       "      <td>salary</td>\n",
       "      <td>hard worker</td>\n",
       "      <td>yes</td>\n",
       "      <td>no</td>\n",
       "      <td>Database Developer</td>\n",
       "    </tr>\n",
       "    <tr>\n",
       "      <th>1</th>\n",
       "      <td>12</td>\n",
       "      <td>3</td>\n",
       "      <td>no</td>\n",
       "      <td>yes</td>\n",
       "      <td>poor</td>\n",
       "      <td>medium</td>\n",
       "      <td>networks</td>\n",
       "      <td>yes</td>\n",
       "      <td>Childrens</td>\n",
       "      <td>gentle</td>\n",
       "      <td>Technical</td>\n",
       "      <td>salary</td>\n",
       "      <td>hard worker</td>\n",
       "      <td>no</td>\n",
       "      <td>yes</td>\n",
       "      <td>Portal Administrator</td>\n",
       "    </tr>\n",
       "    <tr>\n",
       "      <th>2</th>\n",
       "      <td>11</td>\n",
       "      <td>3</td>\n",
       "      <td>no</td>\n",
       "      <td>yes</td>\n",
       "      <td>poor</td>\n",
       "      <td>excellent</td>\n",
       "      <td>hacking</td>\n",
       "      <td>yes</td>\n",
       "      <td>Travel</td>\n",
       "      <td>stubborn</td>\n",
       "      <td>Management</td>\n",
       "      <td>work</td>\n",
       "      <td>hard worker</td>\n",
       "      <td>no</td>\n",
       "      <td>yes</td>\n",
       "      <td>Portal Administrator</td>\n",
       "    </tr>\n",
       "    <tr>\n",
       "      <th>3</th>\n",
       "      <td>7</td>\n",
       "      <td>5</td>\n",
       "      <td>yes</td>\n",
       "      <td>no</td>\n",
       "      <td>medium</td>\n",
       "      <td>excellent</td>\n",
       "      <td>networks</td>\n",
       "      <td>no</td>\n",
       "      <td>Romance</td>\n",
       "      <td>gentle</td>\n",
       "      <td>Management</td>\n",
       "      <td>work</td>\n",
       "      <td>smart worker</td>\n",
       "      <td>yes</td>\n",
       "      <td>yes</td>\n",
       "      <td>Systems Security Administrator</td>\n",
       "    </tr>\n",
       "    <tr>\n",
       "      <th>4</th>\n",
       "      <td>4</td>\n",
       "      <td>3</td>\n",
       "      <td>no</td>\n",
       "      <td>no</td>\n",
       "      <td>poor</td>\n",
       "      <td>excellent</td>\n",
       "      <td>Computer Architecture</td>\n",
       "      <td>yes</td>\n",
       "      <td>Cookbooks</td>\n",
       "      <td>stubborn</td>\n",
       "      <td>Management</td>\n",
       "      <td>work</td>\n",
       "      <td>hard worker</td>\n",
       "      <td>yes</td>\n",
       "      <td>yes</td>\n",
       "      <td>Business Systems Analyst</td>\n",
       "    </tr>\n",
       "  </tbody>\n",
       "</table>\n",
       "</div>"
      ],
      "text/plain": [
       "   Hours working per day  public speaking points self-learning capability?   \n",
       "0                      9                       8                       yes  \\\n",
       "1                     12                       3                        no   \n",
       "2                     11                       3                        no   \n",
       "3                      7                       5                       yes   \n",
       "4                      4                       3                        no   \n",
       "\n",
       "  Extra-courses did reading and writing skills memory capability score   \n",
       "0               yes                  excellent               excellent  \\\n",
       "1               yes                       poor                  medium   \n",
       "2               yes                       poor               excellent   \n",
       "3                no                     medium               excellent   \n",
       "4                no                       poor               excellent   \n",
       "\n",
       "     Interested subjects interested in games Interested Type of Books   \n",
       "0        cloud computing                  no             Prayer books  \\\n",
       "1               networks                 yes                Childrens   \n",
       "2                hacking                 yes                   Travel   \n",
       "3               networks                  no                  Romance   \n",
       "4  Computer Architecture                 yes                Cookbooks   \n",
       "\n",
       "  Gentle or Tuff behaviour? Management or Technical Salary/work   \n",
       "0                  stubborn              Management      salary  \\\n",
       "1                    gentle               Technical      salary   \n",
       "2                  stubborn              Management        work   \n",
       "3                    gentle              Management        work   \n",
       "4                  stubborn              Management        work   \n",
       "\n",
       "  hard/smart worker worked in teams ever? Introvert   \n",
       "0       hard worker                   yes        no  \\\n",
       "1       hard worker                    no       yes   \n",
       "2       hard worker                    no       yes   \n",
       "3      smart worker                   yes       yes   \n",
       "4       hard worker                   yes       yes   \n",
       "\n",
       "               Suggested Job Role  \n",
       "0              Database Developer  \n",
       "1            Portal Administrator  \n",
       "2            Portal Administrator  \n",
       "3  Systems Security Administrator  \n",
       "4        Business Systems Analyst  "
      ]
     },
     "execution_count": 28,
     "metadata": {},
     "output_type": "execute_result"
    }
   ],
   "source": [
    "df.head()"
   ]
  },
  {
   "cell_type": "code",
   "execution_count": 29,
   "id": "951d532b",
   "metadata": {},
   "outputs": [
    {
     "data": {
      "text/plain": [
       "0"
      ]
     },
     "execution_count": 29,
     "metadata": {},
     "output_type": "execute_result"
    }
   ],
   "source": [
    "df=df.dropna()\n",
    "df.isna().sum().sum()"
   ]
  },
  {
   "cell_type": "code",
   "execution_count": 30,
   "id": "4ac3efb3",
   "metadata": {},
   "outputs": [
    {
     "data": {
      "text/html": [
       "<div>\n",
       "<style scoped>\n",
       "    .dataframe tbody tr th:only-of-type {\n",
       "        vertical-align: middle;\n",
       "    }\n",
       "\n",
       "    .dataframe tbody tr th {\n",
       "        vertical-align: top;\n",
       "    }\n",
       "\n",
       "    .dataframe thead th {\n",
       "        text-align: right;\n",
       "    }\n",
       "</style>\n",
       "<table border=\"1\" class=\"dataframe\">\n",
       "  <thead>\n",
       "    <tr style=\"text-align: right;\">\n",
       "      <th></th>\n",
       "      <th>Hours working per day</th>\n",
       "      <th>public speaking points</th>\n",
       "      <th>self-learning capability?</th>\n",
       "      <th>Extra-courses did</th>\n",
       "      <th>reading and writing skills</th>\n",
       "      <th>memory capability score</th>\n",
       "      <th>Interested subjects</th>\n",
       "      <th>interested in games</th>\n",
       "      <th>Interested Type of Books</th>\n",
       "      <th>Gentle or Tuff behaviour?</th>\n",
       "      <th>Management or Technical</th>\n",
       "      <th>Salary/work</th>\n",
       "      <th>hard/smart worker</th>\n",
       "      <th>worked in teams ever?</th>\n",
       "      <th>Introvert</th>\n",
       "      <th>Suggested Job Role</th>\n",
       "    </tr>\n",
       "  </thead>\n",
       "  <tbody>\n",
       "    <tr>\n",
       "      <th>0</th>\n",
       "      <td>9</td>\n",
       "      <td>8</td>\n",
       "      <td>yes</td>\n",
       "      <td>yes</td>\n",
       "      <td>excellent</td>\n",
       "      <td>excellent</td>\n",
       "      <td>cloud computing</td>\n",
       "      <td>no</td>\n",
       "      <td>Prayer books</td>\n",
       "      <td>stubborn</td>\n",
       "      <td>Management</td>\n",
       "      <td>salary</td>\n",
       "      <td>hard worker</td>\n",
       "      <td>yes</td>\n",
       "      <td>no</td>\n",
       "      <td>Database Developer</td>\n",
       "    </tr>\n",
       "    <tr>\n",
       "      <th>1</th>\n",
       "      <td>12</td>\n",
       "      <td>3</td>\n",
       "      <td>no</td>\n",
       "      <td>yes</td>\n",
       "      <td>poor</td>\n",
       "      <td>medium</td>\n",
       "      <td>networks</td>\n",
       "      <td>yes</td>\n",
       "      <td>Childrens</td>\n",
       "      <td>gentle</td>\n",
       "      <td>Technical</td>\n",
       "      <td>salary</td>\n",
       "      <td>hard worker</td>\n",
       "      <td>no</td>\n",
       "      <td>yes</td>\n",
       "      <td>Portal Administrator</td>\n",
       "    </tr>\n",
       "    <tr>\n",
       "      <th>2</th>\n",
       "      <td>11</td>\n",
       "      <td>3</td>\n",
       "      <td>no</td>\n",
       "      <td>yes</td>\n",
       "      <td>poor</td>\n",
       "      <td>excellent</td>\n",
       "      <td>hacking</td>\n",
       "      <td>yes</td>\n",
       "      <td>Travel</td>\n",
       "      <td>stubborn</td>\n",
       "      <td>Management</td>\n",
       "      <td>work</td>\n",
       "      <td>hard worker</td>\n",
       "      <td>no</td>\n",
       "      <td>yes</td>\n",
       "      <td>Portal Administrator</td>\n",
       "    </tr>\n",
       "    <tr>\n",
       "      <th>3</th>\n",
       "      <td>7</td>\n",
       "      <td>5</td>\n",
       "      <td>yes</td>\n",
       "      <td>no</td>\n",
       "      <td>medium</td>\n",
       "      <td>excellent</td>\n",
       "      <td>networks</td>\n",
       "      <td>no</td>\n",
       "      <td>Romance</td>\n",
       "      <td>gentle</td>\n",
       "      <td>Management</td>\n",
       "      <td>work</td>\n",
       "      <td>smart worker</td>\n",
       "      <td>yes</td>\n",
       "      <td>yes</td>\n",
       "      <td>Systems Security Administrator</td>\n",
       "    </tr>\n",
       "    <tr>\n",
       "      <th>4</th>\n",
       "      <td>4</td>\n",
       "      <td>3</td>\n",
       "      <td>no</td>\n",
       "      <td>no</td>\n",
       "      <td>poor</td>\n",
       "      <td>excellent</td>\n",
       "      <td>Computer Architecture</td>\n",
       "      <td>yes</td>\n",
       "      <td>Cookbooks</td>\n",
       "      <td>stubborn</td>\n",
       "      <td>Management</td>\n",
       "      <td>work</td>\n",
       "      <td>hard worker</td>\n",
       "      <td>yes</td>\n",
       "      <td>yes</td>\n",
       "      <td>Business Systems Analyst</td>\n",
       "    </tr>\n",
       "    <tr>\n",
       "      <th>...</th>\n",
       "      <td>...</td>\n",
       "      <td>...</td>\n",
       "      <td>...</td>\n",
       "      <td>...</td>\n",
       "      <td>...</td>\n",
       "      <td>...</td>\n",
       "      <td>...</td>\n",
       "      <td>...</td>\n",
       "      <td>...</td>\n",
       "      <td>...</td>\n",
       "      <td>...</td>\n",
       "      <td>...</td>\n",
       "      <td>...</td>\n",
       "      <td>...</td>\n",
       "      <td>...</td>\n",
       "      <td>...</td>\n",
       "    </tr>\n",
       "    <tr>\n",
       "      <th>19995</th>\n",
       "      <td>4</td>\n",
       "      <td>8</td>\n",
       "      <td>no</td>\n",
       "      <td>no</td>\n",
       "      <td>poor</td>\n",
       "      <td>excellent</td>\n",
       "      <td>Software Engineering</td>\n",
       "      <td>yes</td>\n",
       "      <td>Journals</td>\n",
       "      <td>stubborn</td>\n",
       "      <td>Management</td>\n",
       "      <td>salary</td>\n",
       "      <td>smart worker</td>\n",
       "      <td>yes</td>\n",
       "      <td>no</td>\n",
       "      <td>Technical Engineer</td>\n",
       "    </tr>\n",
       "    <tr>\n",
       "      <th>19996</th>\n",
       "      <td>7</td>\n",
       "      <td>8</td>\n",
       "      <td>no</td>\n",
       "      <td>no</td>\n",
       "      <td>medium</td>\n",
       "      <td>excellent</td>\n",
       "      <td>Management</td>\n",
       "      <td>yes</td>\n",
       "      <td>Cookbooks</td>\n",
       "      <td>stubborn</td>\n",
       "      <td>Management</td>\n",
       "      <td>salary</td>\n",
       "      <td>hard worker</td>\n",
       "      <td>no</td>\n",
       "      <td>yes</td>\n",
       "      <td>E-Commerce Analyst</td>\n",
       "    </tr>\n",
       "    <tr>\n",
       "      <th>19997</th>\n",
       "      <td>7</td>\n",
       "      <td>3</td>\n",
       "      <td>yes</td>\n",
       "      <td>yes</td>\n",
       "      <td>medium</td>\n",
       "      <td>excellent</td>\n",
       "      <td>networks</td>\n",
       "      <td>yes</td>\n",
       "      <td>Drama</td>\n",
       "      <td>gentle</td>\n",
       "      <td>Technical</td>\n",
       "      <td>work</td>\n",
       "      <td>hard worker</td>\n",
       "      <td>no</td>\n",
       "      <td>yes</td>\n",
       "      <td>Business Intelligence Analyst</td>\n",
       "    </tr>\n",
       "    <tr>\n",
       "      <th>19998</th>\n",
       "      <td>5</td>\n",
       "      <td>5</td>\n",
       "      <td>no</td>\n",
       "      <td>no</td>\n",
       "      <td>poor</td>\n",
       "      <td>poor</td>\n",
       "      <td>IOT</td>\n",
       "      <td>no</td>\n",
       "      <td>Travel</td>\n",
       "      <td>gentle</td>\n",
       "      <td>Management</td>\n",
       "      <td>work</td>\n",
       "      <td>smart worker</td>\n",
       "      <td>yes</td>\n",
       "      <td>no</td>\n",
       "      <td>Software Quality Assurance (QA) / Testing</td>\n",
       "    </tr>\n",
       "    <tr>\n",
       "      <th>19999</th>\n",
       "      <td>7</td>\n",
       "      <td>6</td>\n",
       "      <td>yes</td>\n",
       "      <td>yes</td>\n",
       "      <td>excellent</td>\n",
       "      <td>excellent</td>\n",
       "      <td>IOT</td>\n",
       "      <td>no</td>\n",
       "      <td>Comics</td>\n",
       "      <td>gentle</td>\n",
       "      <td>Management</td>\n",
       "      <td>work</td>\n",
       "      <td>hard worker</td>\n",
       "      <td>yes</td>\n",
       "      <td>no</td>\n",
       "      <td>Applications Developer</td>\n",
       "    </tr>\n",
       "  </tbody>\n",
       "</table>\n",
       "<p>20000 rows × 16 columns</p>\n",
       "</div>"
      ],
      "text/plain": [
       "       Hours working per day  public speaking points   \n",
       "0                          9                       8  \\\n",
       "1                         12                       3   \n",
       "2                         11                       3   \n",
       "3                          7                       5   \n",
       "4                          4                       3   \n",
       "...                      ...                     ...   \n",
       "19995                      4                       8   \n",
       "19996                      7                       8   \n",
       "19997                      7                       3   \n",
       "19998                      5                       5   \n",
       "19999                      7                       6   \n",
       "\n",
       "      self-learning capability? Extra-courses did reading and writing skills   \n",
       "0                           yes               yes                  excellent  \\\n",
       "1                            no               yes                       poor   \n",
       "2                            no               yes                       poor   \n",
       "3                           yes                no                     medium   \n",
       "4                            no                no                       poor   \n",
       "...                         ...               ...                        ...   \n",
       "19995                        no                no                       poor   \n",
       "19996                        no                no                     medium   \n",
       "19997                       yes               yes                     medium   \n",
       "19998                        no                no                       poor   \n",
       "19999                       yes               yes                  excellent   \n",
       "\n",
       "      memory capability score    Interested subjects interested in games   \n",
       "0                   excellent        cloud computing                  no  \\\n",
       "1                      medium               networks                 yes   \n",
       "2                   excellent                hacking                 yes   \n",
       "3                   excellent               networks                  no   \n",
       "4                   excellent  Computer Architecture                 yes   \n",
       "...                       ...                    ...                 ...   \n",
       "19995               excellent   Software Engineering                 yes   \n",
       "19996               excellent             Management                 yes   \n",
       "19997               excellent               networks                 yes   \n",
       "19998                    poor                    IOT                  no   \n",
       "19999               excellent                    IOT                  no   \n",
       "\n",
       "      Interested Type of Books Gentle or Tuff behaviour?   \n",
       "0                 Prayer books                  stubborn  \\\n",
       "1                    Childrens                    gentle   \n",
       "2                       Travel                  stubborn   \n",
       "3                      Romance                    gentle   \n",
       "4                    Cookbooks                  stubborn   \n",
       "...                        ...                       ...   \n",
       "19995                 Journals                  stubborn   \n",
       "19996                Cookbooks                  stubborn   \n",
       "19997                    Drama                    gentle   \n",
       "19998                   Travel                    gentle   \n",
       "19999                   Comics                    gentle   \n",
       "\n",
       "      Management or Technical Salary/work hard/smart worker   \n",
       "0                  Management      salary       hard worker  \\\n",
       "1                   Technical      salary       hard worker   \n",
       "2                  Management        work       hard worker   \n",
       "3                  Management        work      smart worker   \n",
       "4                  Management        work       hard worker   \n",
       "...                       ...         ...               ...   \n",
       "19995              Management      salary      smart worker   \n",
       "19996              Management      salary       hard worker   \n",
       "19997               Technical        work       hard worker   \n",
       "19998              Management        work      smart worker   \n",
       "19999              Management        work       hard worker   \n",
       "\n",
       "      worked in teams ever? Introvert   \n",
       "0                       yes        no  \\\n",
       "1                        no       yes   \n",
       "2                        no       yes   \n",
       "3                       yes       yes   \n",
       "4                       yes       yes   \n",
       "...                     ...       ...   \n",
       "19995                   yes        no   \n",
       "19996                    no       yes   \n",
       "19997                    no       yes   \n",
       "19998                   yes        no   \n",
       "19999                   yes        no   \n",
       "\n",
       "                              Suggested Job Role  \n",
       "0                             Database Developer  \n",
       "1                           Portal Administrator  \n",
       "2                           Portal Administrator  \n",
       "3                 Systems Security Administrator  \n",
       "4                       Business Systems Analyst  \n",
       "...                                          ...  \n",
       "19995                         Technical Engineer  \n",
       "19996                         E-Commerce Analyst  \n",
       "19997              Business Intelligence Analyst  \n",
       "19998  Software Quality Assurance (QA) / Testing  \n",
       "19999                     Applications Developer  \n",
       "\n",
       "[20000 rows x 16 columns]"
      ]
     },
     "execution_count": 30,
     "metadata": {},
     "output_type": "execute_result"
    }
   ],
   "source": [
    "df.duplicated()\n",
    "df.drop_duplicates()"
   ]
  },
  {
   "cell_type": "code",
   "execution_count": 31,
   "id": "c0367657",
   "metadata": {},
   "outputs": [],
   "source": [
    "df = df.drop_duplicates(subset=df.columns.difference(['Suggested Job Role']))"
   ]
  },
  {
   "cell_type": "code",
   "execution_count": 32,
   "id": "dc0b8b90",
   "metadata": {},
   "outputs": [
    {
     "data": {
      "text/plain": [
       "(19996, 16)"
      ]
     },
     "execution_count": 32,
     "metadata": {},
     "output_type": "execute_result"
    }
   ],
   "source": [
    "df.shape"
   ]
  },
  {
   "cell_type": "code",
   "execution_count": 33,
   "id": "685aebda",
   "metadata": {},
   "outputs": [
    {
     "data": {
      "text/plain": [
       "34"
      ]
     },
     "execution_count": 33,
     "metadata": {},
     "output_type": "execute_result"
    }
   ],
   "source": [
    "df['Suggested Job Role'].nunique()"
   ]
  },
  {
   "cell_type": "code",
   "execution_count": 34,
   "id": "40957a48",
   "metadata": {},
   "outputs": [
    {
     "data": {
      "text/plain": [
       "Suggested Job Role\n",
       "Network Security Administrator               1112\n",
       "Network Security Engineer                     630\n",
       "Network Engineer                              621\n",
       "Project Manager                               602\n",
       "Database Administrator                        593\n",
       "Portal Administrator                          592\n",
       "Information Technology Manager                591\n",
       "Software Engineer                             589\n",
       "UX Designer                                   589\n",
       "Design & UX                                   588\n",
       "Software Developer                            587\n",
       "CRM Business Analyst                          584\n",
       "Business Systems Analyst                      582\n",
       "Database Developer                            581\n",
       "Solutions Architect                           577\n",
       "Software Systems Engineer                     575\n",
       "Software Quality Assurance (QA) / Testing     571\n",
       "Database Manager                              570\n",
       "Web Developer                                 570\n",
       "CRM Technical Developer                       567\n",
       "Technical Support                             565\n",
       "Quality Assurance Associate                   565\n",
       "Data Architect                                564\n",
       "Systems Security Administrator                562\n",
       "Information Technology Auditor                558\n",
       "Technical Services/Help Desk/Tech Support     558\n",
       "Technical Engineer                            557\n",
       "Applications Developer                        550\n",
       "Systems Analyst                               550\n",
       "E-Commerce Analyst                            546\n",
       "Information Security Analyst                  543\n",
       "Business Intelligence Analyst                 540\n",
       "Mobile Applications Developer                 538\n",
       "Programmer Analyst                            529\n",
       "Name: count, dtype: int64"
      ]
     },
     "execution_count": 34,
     "metadata": {},
     "output_type": "execute_result"
    }
   ],
   "source": [
    "df['Suggested Job Role'].value_counts()"
   ]
  },
  {
   "cell_type": "code",
   "execution_count": 35,
   "id": "3c3a4dfa",
   "metadata": {},
   "outputs": [],
   "source": [
    "import random\n",
    "\n",
    "def remove_random_rows(df, job_role, n_rows):\n",
    "    matching_indices = df[df['Suggested Job Role'] == job_role].index\n",
    "    if len(matching_indices) < n_rows:\n",
    "        print(f\"Error: There are only {len(matching_indices)} rows with the '{job_role}' job role. Cannot remove {n_rows} rows.\")\n",
    "        return df\n",
    "    \n",
    "    random_indices = random.sample(list(matching_indices), n_rows)\n",
    "    df_dropped = df.drop(random_indices, inplace=False)\n",
    "    \n",
    "    return df_dropped"
   ]
  },
  {
   "cell_type": "code",
   "execution_count": 36,
   "id": "58577a86",
   "metadata": {},
   "outputs": [],
   "source": [
    "df = remove_random_rows(df, 'Network Security Administrator', 500)"
   ]
  },
  {
   "cell_type": "code",
   "execution_count": 37,
   "id": "04776f26",
   "metadata": {},
   "outputs": [
    {
     "data": {
      "text/plain": [
       "Suggested Job Role\n",
       "Network Security Engineer                    630\n",
       "Network Engineer                             621\n",
       "Network Security Administrator               612\n",
       "Project Manager                              602\n",
       "Database Administrator                       593\n",
       "Portal Administrator                         592\n",
       "Information Technology Manager               591\n",
       "Software Engineer                            589\n",
       "UX Designer                                  589\n",
       "Design & UX                                  588\n",
       "Software Developer                           587\n",
       "CRM Business Analyst                         584\n",
       "Business Systems Analyst                     582\n",
       "Database Developer                           581\n",
       "Solutions Architect                          577\n",
       "Software Systems Engineer                    575\n",
       "Software Quality Assurance (QA) / Testing    571\n",
       "Database Manager                             570\n",
       "Web Developer                                570\n",
       "CRM Technical Developer                      567\n",
       "Technical Support                            565\n",
       "Quality Assurance Associate                  565\n",
       "Data Architect                               564\n",
       "Systems Security Administrator               562\n",
       "Information Technology Auditor               558\n",
       "Technical Services/Help Desk/Tech Support    558\n",
       "Technical Engineer                           557\n",
       "Applications Developer                       550\n",
       "Systems Analyst                              550\n",
       "E-Commerce Analyst                           546\n",
       "Information Security Analyst                 543\n",
       "Business Intelligence Analyst                540\n",
       "Mobile Applications Developer                538\n",
       "Programmer Analyst                           529\n",
       "Name: count, dtype: int64"
      ]
     },
     "execution_count": 37,
     "metadata": {},
     "output_type": "execute_result"
    }
   ],
   "source": [
    "df['Suggested Job Role'].value_counts()"
   ]
  },
  {
   "cell_type": "code",
   "execution_count": 38,
   "id": "99f83c0e",
   "metadata": {},
   "outputs": [
    {
     "data": {
      "text/plain": [
       "(19496, 16)"
      ]
     },
     "execution_count": 38,
     "metadata": {},
     "output_type": "execute_result"
    }
   ],
   "source": [
    "df.shape"
   ]
  },
  {
   "cell_type": "code",
   "execution_count": 39,
   "id": "6c768d5d",
   "metadata": {},
   "outputs": [
    {
     "data": {
      "text/plain": [
       "array([ 9, 12, 11,  7,  4,  6, 10,  8,  5])"
      ]
     },
     "execution_count": 39,
     "metadata": {},
     "output_type": "execute_result"
    }
   ],
   "source": [
    "df['Hours working per day'].unique()"
   ]
  },
  {
   "cell_type": "code",
   "execution_count": 40,
   "id": "1db6b54a",
   "metadata": {},
   "outputs": [
    {
     "data": {
      "text/plain": [
       "array([8, 3, 5, 1, 6, 4, 9, 7, 2])"
      ]
     },
     "execution_count": 40,
     "metadata": {},
     "output_type": "execute_result"
    }
   ],
   "source": [
    "df['public speaking points'].unique()"
   ]
  },
  {
   "cell_type": "code",
   "execution_count": 41,
   "id": "162ffd4a",
   "metadata": {},
   "outputs": [
    {
     "data": {
      "text/plain": [
       "array(['yes', 'no'], dtype=object)"
      ]
     },
     "execution_count": 41,
     "metadata": {},
     "output_type": "execute_result"
    }
   ],
   "source": [
    "df['self-learning capability?'].unique()"
   ]
  },
  {
   "cell_type": "code",
   "execution_count": 42,
   "id": "da4d51ca",
   "metadata": {},
   "outputs": [
    {
     "data": {
      "text/plain": [
       "array(['yes', 'no'], dtype=object)"
      ]
     },
     "execution_count": 42,
     "metadata": {},
     "output_type": "execute_result"
    }
   ],
   "source": [
    "df['Extra-courses did'].unique()"
   ]
  },
  {
   "cell_type": "code",
   "execution_count": 43,
   "id": "a87b0d3d",
   "metadata": {},
   "outputs": [
    {
     "data": {
      "text/plain": [
       "array(['excellent', 'poor', 'medium'], dtype=object)"
      ]
     },
     "execution_count": 43,
     "metadata": {},
     "output_type": "execute_result"
    }
   ],
   "source": [
    "df['reading and writing skills'].unique()"
   ]
  },
  {
   "cell_type": "code",
   "execution_count": 44,
   "id": "e729e68a",
   "metadata": {},
   "outputs": [
    {
     "data": {
      "text/plain": [
       "array(['excellent', 'medium', 'poor'], dtype=object)"
      ]
     },
     "execution_count": 44,
     "metadata": {},
     "output_type": "execute_result"
    }
   ],
   "source": [
    "df['memory capability score'].unique()"
   ]
  },
  {
   "cell_type": "code",
   "execution_count": 45,
   "id": "f8884843",
   "metadata": {},
   "outputs": [
    {
     "data": {
      "text/plain": [
       "array(['cloud computing', 'networks', 'hacking', 'Computer Architecture',\n",
       "       'programming', 'parallel computing', 'IOT', 'data engineering',\n",
       "       'Software Engineering', 'Management'], dtype=object)"
      ]
     },
     "execution_count": 45,
     "metadata": {},
     "output_type": "execute_result"
    }
   ],
   "source": [
    "df['Interested subjects'].unique()"
   ]
  },
  {
   "cell_type": "code",
   "execution_count": 46,
   "id": "0e35df6c",
   "metadata": {},
   "outputs": [
    {
     "data": {
      "text/plain": [
       "array(['no', 'yes'], dtype=object)"
      ]
     },
     "execution_count": 46,
     "metadata": {},
     "output_type": "execute_result"
    }
   ],
   "source": [
    "df['interested in games'].unique()"
   ]
  },
  {
   "cell_type": "code",
   "execution_count": 47,
   "id": "3ce417be",
   "metadata": {},
   "outputs": [
    {
     "data": {
      "text/plain": [
       "array(['Prayer books', 'Childrens', 'Travel', 'Romance', 'Cookbooks',\n",
       "       'Self help', 'Drama', 'Math', 'Religion-Spirituality', 'Anthology',\n",
       "       'Trilogy', 'Autobiographies', 'Mystery', 'Diaries', 'Journals',\n",
       "       'History', 'Art', 'Dictionaries', 'Horror', 'Encyclopedias',\n",
       "       'Action and Adventure', 'Fantasy', 'Comics', 'Science fiction',\n",
       "       'Series', 'Guide', 'Biographies', 'Health', 'Satire', 'Science',\n",
       "       'Poetry'], dtype=object)"
      ]
     },
     "execution_count": 47,
     "metadata": {},
     "output_type": "execute_result"
    }
   ],
   "source": [
    "df['Interested Type of Books'].unique()"
   ]
  },
  {
   "cell_type": "code",
   "execution_count": 48,
   "id": "775d43ce",
   "metadata": {},
   "outputs": [
    {
     "data": {
      "text/plain": [
       "array(['stubborn', 'gentle'], dtype=object)"
      ]
     },
     "execution_count": 48,
     "metadata": {},
     "output_type": "execute_result"
    }
   ],
   "source": [
    "df['Gentle or Tuff behaviour?'].unique()"
   ]
  },
  {
   "cell_type": "code",
   "execution_count": 49,
   "id": "fd0d05c1",
   "metadata": {},
   "outputs": [
    {
     "data": {
      "text/plain": [
       "array(['Management', 'Technical'], dtype=object)"
      ]
     },
     "execution_count": 49,
     "metadata": {},
     "output_type": "execute_result"
    }
   ],
   "source": [
    "df['Management or Technical'].unique()"
   ]
  },
  {
   "cell_type": "code",
   "execution_count": 50,
   "id": "0abff71d",
   "metadata": {},
   "outputs": [
    {
     "data": {
      "text/plain": [
       "array(['salary', 'work'], dtype=object)"
      ]
     },
     "execution_count": 50,
     "metadata": {},
     "output_type": "execute_result"
    }
   ],
   "source": [
    "df['Salary/work'].unique()"
   ]
  },
  {
   "cell_type": "code",
   "execution_count": 51,
   "id": "ae313df1",
   "metadata": {},
   "outputs": [
    {
     "data": {
      "text/plain": [
       "array(['hard worker', 'smart worker'], dtype=object)"
      ]
     },
     "execution_count": 51,
     "metadata": {},
     "output_type": "execute_result"
    }
   ],
   "source": [
    "df['hard/smart worker'].unique()"
   ]
  },
  {
   "cell_type": "code",
   "execution_count": 52,
   "id": "d1fa82ff",
   "metadata": {},
   "outputs": [
    {
     "data": {
      "text/plain": [
       "array(['yes', 'no'], dtype=object)"
      ]
     },
     "execution_count": 52,
     "metadata": {},
     "output_type": "execute_result"
    }
   ],
   "source": [
    "df['worked in teams ever?'].unique()"
   ]
  },
  {
   "cell_type": "code",
   "execution_count": 53,
   "id": "5dfe421f",
   "metadata": {},
   "outputs": [
    {
     "data": {
      "text/plain": [
       "array(['no', 'yes'], dtype=object)"
      ]
     },
     "execution_count": 53,
     "metadata": {},
     "output_type": "execute_result"
    }
   ],
   "source": [
    "df['Introvert'].unique()"
   ]
  },
  {
   "cell_type": "code",
   "execution_count": 54,
   "id": "48adf7b9",
   "metadata": {},
   "outputs": [],
   "source": [
    "col_list_obj = df.select_dtypes(include=['object']).columns.to_list()"
   ]
  },
  {
   "cell_type": "code",
   "execution_count": 55,
   "id": "485450f0",
   "metadata": {},
   "outputs": [
    {
     "data": {
      "text/plain": [
       "['self-learning capability?',\n",
       " 'Extra-courses did',\n",
       " 'reading and writing skills',\n",
       " 'memory capability score',\n",
       " 'Interested subjects',\n",
       " 'interested in games',\n",
       " 'Interested Type of Books',\n",
       " 'Gentle or Tuff behaviour?',\n",
       " 'Management or Technical',\n",
       " 'Salary/work',\n",
       " 'hard/smart worker',\n",
       " 'worked in teams ever?',\n",
       " 'Introvert',\n",
       " 'Suggested Job Role']"
      ]
     },
     "execution_count": 55,
     "metadata": {},
     "output_type": "execute_result"
    }
   ],
   "source": [
    "col_list_obj"
   ]
  },
  {
   "cell_type": "code",
   "execution_count": 56,
   "id": "7d1514b3",
   "metadata": {},
   "outputs": [],
   "source": [
    "def labelEncoding(df, columns):\n",
    "    encoders = {}\n",
    "    for col in columns:\n",
    "        le = preprocessing.LabelEncoder().fit(df[col])\n",
    "        df[col] = le.transform(df[col])\n",
    "        encoders[col] = le\n",
    "    return df, encoders"
   ]
  },
  {
   "cell_type": "code",
   "execution_count": 57,
   "id": "41f0f505",
   "metadata": {},
   "outputs": [],
   "source": [
    "def label_encode_columns_w_fit_encoders(df, columns, encoders):\n",
    "    for col in columns:\n",
    "        le = encoders.get(col)\n",
    "        df[col] = le.transform(df[col])\n",
    "    return df"
   ]
  },
  {
   "cell_type": "code",
   "execution_count": 58,
   "id": "1634ef77",
   "metadata": {},
   "outputs": [],
   "source": [
    "df, label_encoders = labelEncoding(df, col_list_obj)"
   ]
  },
  {
   "cell_type": "code",
   "execution_count": 59,
   "id": "76469d8f",
   "metadata": {},
   "outputs": [
    {
     "data": {
      "text/html": [
       "<div>\n",
       "<style scoped>\n",
       "    .dataframe tbody tr th:only-of-type {\n",
       "        vertical-align: middle;\n",
       "    }\n",
       "\n",
       "    .dataframe tbody tr th {\n",
       "        vertical-align: top;\n",
       "    }\n",
       "\n",
       "    .dataframe thead th {\n",
       "        text-align: right;\n",
       "    }\n",
       "</style>\n",
       "<table border=\"1\" class=\"dataframe\">\n",
       "  <thead>\n",
       "    <tr style=\"text-align: right;\">\n",
       "      <th></th>\n",
       "      <th>Hours working per day</th>\n",
       "      <th>public speaking points</th>\n",
       "      <th>self-learning capability?</th>\n",
       "      <th>Extra-courses did</th>\n",
       "      <th>reading and writing skills</th>\n",
       "      <th>memory capability score</th>\n",
       "      <th>Interested subjects</th>\n",
       "      <th>interested in games</th>\n",
       "      <th>Interested Type of Books</th>\n",
       "      <th>Gentle or Tuff behaviour?</th>\n",
       "      <th>Management or Technical</th>\n",
       "      <th>Salary/work</th>\n",
       "      <th>hard/smart worker</th>\n",
       "      <th>worked in teams ever?</th>\n",
       "      <th>Introvert</th>\n",
       "      <th>Suggested Job Role</th>\n",
       "    </tr>\n",
       "  </thead>\n",
       "  <tbody>\n",
       "    <tr>\n",
       "      <th>0</th>\n",
       "      <td>9</td>\n",
       "      <td>8</td>\n",
       "      <td>1</td>\n",
       "      <td>1</td>\n",
       "      <td>0</td>\n",
       "      <td>0</td>\n",
       "      <td>4</td>\n",
       "      <td>0</td>\n",
       "      <td>21</td>\n",
       "      <td>1</td>\n",
       "      <td>0</td>\n",
       "      <td>0</td>\n",
       "      <td>0</td>\n",
       "      <td>1</td>\n",
       "      <td>0</td>\n",
       "      <td>7</td>\n",
       "    </tr>\n",
       "    <tr>\n",
       "      <th>1</th>\n",
       "      <td>12</td>\n",
       "      <td>3</td>\n",
       "      <td>0</td>\n",
       "      <td>1</td>\n",
       "      <td>2</td>\n",
       "      <td>1</td>\n",
       "      <td>7</td>\n",
       "      <td>1</td>\n",
       "      <td>5</td>\n",
       "      <td>0</td>\n",
       "      <td>1</td>\n",
       "      <td>0</td>\n",
       "      <td>0</td>\n",
       "      <td>0</td>\n",
       "      <td>1</td>\n",
       "      <td>18</td>\n",
       "    </tr>\n",
       "    <tr>\n",
       "      <th>2</th>\n",
       "      <td>11</td>\n",
       "      <td>3</td>\n",
       "      <td>0</td>\n",
       "      <td>1</td>\n",
       "      <td>2</td>\n",
       "      <td>0</td>\n",
       "      <td>6</td>\n",
       "      <td>1</td>\n",
       "      <td>29</td>\n",
       "      <td>1</td>\n",
       "      <td>0</td>\n",
       "      <td>1</td>\n",
       "      <td>0</td>\n",
       "      <td>0</td>\n",
       "      <td>1</td>\n",
       "      <td>18</td>\n",
       "    </tr>\n",
       "    <tr>\n",
       "      <th>3</th>\n",
       "      <td>7</td>\n",
       "      <td>5</td>\n",
       "      <td>1</td>\n",
       "      <td>0</td>\n",
       "      <td>1</td>\n",
       "      <td>0</td>\n",
       "      <td>7</td>\n",
       "      <td>0</td>\n",
       "      <td>23</td>\n",
       "      <td>0</td>\n",
       "      <td>0</td>\n",
       "      <td>1</td>\n",
       "      <td>1</td>\n",
       "      <td>1</td>\n",
       "      <td>1</td>\n",
       "      <td>28</td>\n",
       "    </tr>\n",
       "    <tr>\n",
       "      <th>4</th>\n",
       "      <td>4</td>\n",
       "      <td>3</td>\n",
       "      <td>0</td>\n",
       "      <td>0</td>\n",
       "      <td>2</td>\n",
       "      <td>0</td>\n",
       "      <td>0</td>\n",
       "      <td>1</td>\n",
       "      <td>7</td>\n",
       "      <td>1</td>\n",
       "      <td>0</td>\n",
       "      <td>1</td>\n",
       "      <td>0</td>\n",
       "      <td>1</td>\n",
       "      <td>1</td>\n",
       "      <td>2</td>\n",
       "    </tr>\n",
       "  </tbody>\n",
       "</table>\n",
       "</div>"
      ],
      "text/plain": [
       "   Hours working per day  public speaking points  self-learning capability?   \n",
       "0                      9                       8                          1  \\\n",
       "1                     12                       3                          0   \n",
       "2                     11                       3                          0   \n",
       "3                      7                       5                          1   \n",
       "4                      4                       3                          0   \n",
       "\n",
       "   Extra-courses did  reading and writing skills  memory capability score   \n",
       "0                  1                           0                        0  \\\n",
       "1                  1                           2                        1   \n",
       "2                  1                           2                        0   \n",
       "3                  0                           1                        0   \n",
       "4                  0                           2                        0   \n",
       "\n",
       "   Interested subjects  interested in games  Interested Type of Books   \n",
       "0                    4                    0                        21  \\\n",
       "1                    7                    1                         5   \n",
       "2                    6                    1                        29   \n",
       "3                    7                    0                        23   \n",
       "4                    0                    1                         7   \n",
       "\n",
       "   Gentle or Tuff behaviour?  Management or Technical  Salary/work   \n",
       "0                          1                        0            0  \\\n",
       "1                          0                        1            0   \n",
       "2                          1                        0            1   \n",
       "3                          0                        0            1   \n",
       "4                          1                        0            1   \n",
       "\n",
       "   hard/smart worker  worked in teams ever?  Introvert  Suggested Job Role  \n",
       "0                  0                      1          0                   7  \n",
       "1                  0                      0          1                  18  \n",
       "2                  0                      0          1                  18  \n",
       "3                  1                      1          1                  28  \n",
       "4                  0                      1          1                   2  "
      ]
     },
     "execution_count": 59,
     "metadata": {},
     "output_type": "execute_result"
    }
   ],
   "source": [
    "df.head()"
   ]
  },
  {
   "cell_type": "code",
   "execution_count": 60,
   "id": "f5ba9ae1",
   "metadata": {},
   "outputs": [
    {
     "data": {
      "text/plain": [
       "Hours working per day         int64\n",
       "public speaking points        int64\n",
       "self-learning capability?     int64\n",
       "Extra-courses did             int64\n",
       "reading and writing skills    int64\n",
       "memory capability score       int64\n",
       "Interested subjects           int64\n",
       "interested in games           int64\n",
       "Interested Type of Books      int64\n",
       "Gentle or Tuff behaviour?     int64\n",
       "Management or Technical       int64\n",
       "Salary/work                   int64\n",
       "hard/smart worker             int64\n",
       "worked in teams ever?         int64\n",
       "Introvert                     int64\n",
       "Suggested Job Role            int64\n",
       "dtype: object"
      ]
     },
     "execution_count": 60,
     "metadata": {},
     "output_type": "execute_result"
    }
   ],
   "source": [
    "df.dtypes"
   ]
  },
  {
   "cell_type": "code",
   "execution_count": 61,
   "id": "9a327428",
   "metadata": {},
   "outputs": [
    {
     "data": {
      "text/html": [
       "<div>\n",
       "<style scoped>\n",
       "    .dataframe tbody tr th:only-of-type {\n",
       "        vertical-align: middle;\n",
       "    }\n",
       "\n",
       "    .dataframe tbody tr th {\n",
       "        vertical-align: top;\n",
       "    }\n",
       "\n",
       "    .dataframe thead th {\n",
       "        text-align: right;\n",
       "    }\n",
       "</style>\n",
       "<table border=\"1\" class=\"dataframe\">\n",
       "  <thead>\n",
       "    <tr style=\"text-align: right;\">\n",
       "      <th></th>\n",
       "      <th>Hours working per day</th>\n",
       "      <th>public speaking points</th>\n",
       "      <th>self-learning capability?</th>\n",
       "      <th>Extra-courses did</th>\n",
       "      <th>reading and writing skills</th>\n",
       "      <th>memory capability score</th>\n",
       "      <th>Interested subjects</th>\n",
       "      <th>interested in games</th>\n",
       "      <th>Interested Type of Books</th>\n",
       "      <th>Gentle or Tuff behaviour?</th>\n",
       "      <th>Management or Technical</th>\n",
       "      <th>Salary/work</th>\n",
       "      <th>hard/smart worker</th>\n",
       "      <th>worked in teams ever?</th>\n",
       "      <th>Introvert</th>\n",
       "      <th>Suggested Job Role</th>\n",
       "    </tr>\n",
       "  </thead>\n",
       "  <tbody>\n",
       "    <tr>\n",
       "      <th>count</th>\n",
       "      <td>19496.000000</td>\n",
       "      <td>19496.000000</td>\n",
       "      <td>19496.000000</td>\n",
       "      <td>19496.000000</td>\n",
       "      <td>19496.000000</td>\n",
       "      <td>19496.000000</td>\n",
       "      <td>19496.000000</td>\n",
       "      <td>19496.000000</td>\n",
       "      <td>19496.000000</td>\n",
       "      <td>19496.000000</td>\n",
       "      <td>19496.000000</td>\n",
       "      <td>19496.000000</td>\n",
       "      <td>19496.000000</td>\n",
       "      <td>19496.000000</td>\n",
       "      <td>19496.000000</td>\n",
       "      <td>19496.000000</td>\n",
       "    </tr>\n",
       "    <tr>\n",
       "      <th>mean</th>\n",
       "      <td>7.983125</td>\n",
       "      <td>5.013182</td>\n",
       "      <td>0.504514</td>\n",
       "      <td>0.496769</td>\n",
       "      <td>0.997897</td>\n",
       "      <td>0.999897</td>\n",
       "      <td>4.504668</td>\n",
       "      <td>0.498615</td>\n",
       "      <td>15.218250</td>\n",
       "      <td>0.498205</td>\n",
       "      <td>0.502872</td>\n",
       "      <td>0.495845</td>\n",
       "      <td>0.501231</td>\n",
       "      <td>0.496256</td>\n",
       "      <td>0.504514</td>\n",
       "      <td>16.515593</td>\n",
       "    </tr>\n",
       "    <tr>\n",
       "      <th>std</th>\n",
       "      <td>2.593573</td>\n",
       "      <td>2.587416</td>\n",
       "      <td>0.499992</td>\n",
       "      <td>0.500002</td>\n",
       "      <td>0.817885</td>\n",
       "      <td>0.816476</td>\n",
       "      <td>2.872012</td>\n",
       "      <td>0.500011</td>\n",
       "      <td>8.666487</td>\n",
       "      <td>0.500010</td>\n",
       "      <td>0.500005</td>\n",
       "      <td>0.499996</td>\n",
       "      <td>0.500011</td>\n",
       "      <td>0.499999</td>\n",
       "      <td>0.499992</td>\n",
       "      <td>9.761525</td>\n",
       "    </tr>\n",
       "    <tr>\n",
       "      <th>min</th>\n",
       "      <td>4.000000</td>\n",
       "      <td>1.000000</td>\n",
       "      <td>0.000000</td>\n",
       "      <td>0.000000</td>\n",
       "      <td>0.000000</td>\n",
       "      <td>0.000000</td>\n",
       "      <td>0.000000</td>\n",
       "      <td>0.000000</td>\n",
       "      <td>0.000000</td>\n",
       "      <td>0.000000</td>\n",
       "      <td>0.000000</td>\n",
       "      <td>0.000000</td>\n",
       "      <td>0.000000</td>\n",
       "      <td>0.000000</td>\n",
       "      <td>0.000000</td>\n",
       "      <td>0.000000</td>\n",
       "    </tr>\n",
       "    <tr>\n",
       "      <th>25%</th>\n",
       "      <td>6.000000</td>\n",
       "      <td>3.000000</td>\n",
       "      <td>0.000000</td>\n",
       "      <td>0.000000</td>\n",
       "      <td>0.000000</td>\n",
       "      <td>0.000000</td>\n",
       "      <td>2.000000</td>\n",
       "      <td>0.000000</td>\n",
       "      <td>8.000000</td>\n",
       "      <td>0.000000</td>\n",
       "      <td>0.000000</td>\n",
       "      <td>0.000000</td>\n",
       "      <td>0.000000</td>\n",
       "      <td>0.000000</td>\n",
       "      <td>0.000000</td>\n",
       "      <td>8.000000</td>\n",
       "    </tr>\n",
       "    <tr>\n",
       "      <th>50%</th>\n",
       "      <td>8.000000</td>\n",
       "      <td>5.000000</td>\n",
       "      <td>1.000000</td>\n",
       "      <td>0.000000</td>\n",
       "      <td>1.000000</td>\n",
       "      <td>1.000000</td>\n",
       "      <td>5.000000</td>\n",
       "      <td>0.000000</td>\n",
       "      <td>15.000000</td>\n",
       "      <td>0.000000</td>\n",
       "      <td>1.000000</td>\n",
       "      <td>0.000000</td>\n",
       "      <td>1.000000</td>\n",
       "      <td>0.000000</td>\n",
       "      <td>1.000000</td>\n",
       "      <td>17.000000</td>\n",
       "    </tr>\n",
       "    <tr>\n",
       "      <th>75%</th>\n",
       "      <td>10.000000</td>\n",
       "      <td>7.000000</td>\n",
       "      <td>1.000000</td>\n",
       "      <td>1.000000</td>\n",
       "      <td>2.000000</td>\n",
       "      <td>2.000000</td>\n",
       "      <td>7.000000</td>\n",
       "      <td>1.000000</td>\n",
       "      <td>23.000000</td>\n",
       "      <td>1.000000</td>\n",
       "      <td>1.000000</td>\n",
       "      <td>1.000000</td>\n",
       "      <td>1.000000</td>\n",
       "      <td>1.000000</td>\n",
       "      <td>1.000000</td>\n",
       "      <td>25.000000</td>\n",
       "    </tr>\n",
       "    <tr>\n",
       "      <th>max</th>\n",
       "      <td>12.000000</td>\n",
       "      <td>9.000000</td>\n",
       "      <td>1.000000</td>\n",
       "      <td>1.000000</td>\n",
       "      <td>2.000000</td>\n",
       "      <td>2.000000</td>\n",
       "      <td>9.000000</td>\n",
       "      <td>1.000000</td>\n",
       "      <td>30.000000</td>\n",
       "      <td>1.000000</td>\n",
       "      <td>1.000000</td>\n",
       "      <td>1.000000</td>\n",
       "      <td>1.000000</td>\n",
       "      <td>1.000000</td>\n",
       "      <td>1.000000</td>\n",
       "      <td>33.000000</td>\n",
       "    </tr>\n",
       "  </tbody>\n",
       "</table>\n",
       "</div>"
      ],
      "text/plain": [
       "       Hours working per day  public speaking points   \n",
       "count           19496.000000            19496.000000  \\\n",
       "mean                7.983125                5.013182   \n",
       "std                 2.593573                2.587416   \n",
       "min                 4.000000                1.000000   \n",
       "25%                 6.000000                3.000000   \n",
       "50%                 8.000000                5.000000   \n",
       "75%                10.000000                7.000000   \n",
       "max                12.000000                9.000000   \n",
       "\n",
       "       self-learning capability?  Extra-courses did   \n",
       "count               19496.000000       19496.000000  \\\n",
       "mean                    0.504514           0.496769   \n",
       "std                     0.499992           0.500002   \n",
       "min                     0.000000           0.000000   \n",
       "25%                     0.000000           0.000000   \n",
       "50%                     1.000000           0.000000   \n",
       "75%                     1.000000           1.000000   \n",
       "max                     1.000000           1.000000   \n",
       "\n",
       "       reading and writing skills  memory capability score   \n",
       "count                19496.000000             19496.000000  \\\n",
       "mean                     0.997897                 0.999897   \n",
       "std                      0.817885                 0.816476   \n",
       "min                      0.000000                 0.000000   \n",
       "25%                      0.000000                 0.000000   \n",
       "50%                      1.000000                 1.000000   \n",
       "75%                      2.000000                 2.000000   \n",
       "max                      2.000000                 2.000000   \n",
       "\n",
       "       Interested subjects  interested in games  Interested Type of Books   \n",
       "count         19496.000000         19496.000000              19496.000000  \\\n",
       "mean              4.504668             0.498615                 15.218250   \n",
       "std               2.872012             0.500011                  8.666487   \n",
       "min               0.000000             0.000000                  0.000000   \n",
       "25%               2.000000             0.000000                  8.000000   \n",
       "50%               5.000000             0.000000                 15.000000   \n",
       "75%               7.000000             1.000000                 23.000000   \n",
       "max               9.000000             1.000000                 30.000000   \n",
       "\n",
       "       Gentle or Tuff behaviour?  Management or Technical   Salary/work   \n",
       "count               19496.000000             19496.000000  19496.000000  \\\n",
       "mean                    0.498205                 0.502872      0.495845   \n",
       "std                     0.500010                 0.500005      0.499996   \n",
       "min                     0.000000                 0.000000      0.000000   \n",
       "25%                     0.000000                 0.000000      0.000000   \n",
       "50%                     0.000000                 1.000000      0.000000   \n",
       "75%                     1.000000                 1.000000      1.000000   \n",
       "max                     1.000000                 1.000000      1.000000   \n",
       "\n",
       "       hard/smart worker  worked in teams ever?     Introvert   \n",
       "count       19496.000000           19496.000000  19496.000000  \\\n",
       "mean            0.501231               0.496256      0.504514   \n",
       "std             0.500011               0.499999      0.499992   \n",
       "min             0.000000               0.000000      0.000000   \n",
       "25%             0.000000               0.000000      0.000000   \n",
       "50%             1.000000               0.000000      1.000000   \n",
       "75%             1.000000               1.000000      1.000000   \n",
       "max             1.000000               1.000000      1.000000   \n",
       "\n",
       "       Suggested Job Role  \n",
       "count        19496.000000  \n",
       "mean            16.515593  \n",
       "std              9.761525  \n",
       "min              0.000000  \n",
       "25%              8.000000  \n",
       "50%             17.000000  \n",
       "75%             25.000000  \n",
       "max             33.000000  "
      ]
     },
     "execution_count": 61,
     "metadata": {},
     "output_type": "execute_result"
    }
   ],
   "source": [
    "df.describe()"
   ]
  },
  {
   "cell_type": "code",
   "execution_count": 62,
   "id": "706f8703",
   "metadata": {},
   "outputs": [],
   "source": [
    "X = df[df.columns.difference(['Suggested Job Role'])]\n",
    "y = df['Suggested Job Role']"
   ]
  },
  {
   "cell_type": "code",
   "execution_count": 63,
   "id": "01f839d5",
   "metadata": {},
   "outputs": [],
   "source": [
    "X_train, X_test, y_train, y_test = train_test_split(X, y, test_size=0.2, random_state=42)"
   ]
  },
  {
   "cell_type": "code",
   "execution_count": 64,
   "id": "8d2d9c22",
   "metadata": {},
   "outputs": [],
   "source": [
    "def pred_metrics(model, X_train, y_train, X_test, y_test):\n",
    "    print('----- Train -----')\n",
    "    y_pred_train = model.predict(X_train)\n",
    "    print('Misclassified samples: {}'.format((y_train != y_pred_train).sum()))\n",
    "    print('Accuracy: {:.2f}'.format(accuracy_score(y_train, y_pred_train)))\n",
    "    print('Precision: {:.2f}'.format(precision_score(y_train, y_pred_train, average='weighted')))\n",
    "    print('Recall: {:.2f}'.format(recall_score(y_train, y_pred_train, average='weighted')))\n",
    "    print('F1: {:.2f}'.format(f1_score(y_train, y_pred_train, average='weighted')))\n",
    "    \n",
    "    print('\\n----- Test -----')\n",
    "    y_pred_test = model.predict(X_test)\n",
    "    print('Misclassified samples: {}'.format((y_test != y_pred_test).sum()))\n",
    "    print('Accuracy: {:.2f}'.format(accuracy_score(y_test, y_pred_test)))\n",
    "    print('Precision: {:.2f}'.format(precision_score(y_test, y_pred_test, average='weighted')))\n",
    "    print('Recall: {:.2f}'.format(recall_score(y_test, y_pred_test, average='weighted')))\n",
    "    print('F1: {:.2f}'.format(f1_score(y_test, y_pred_test, average='weighted')))\n",
    "    \n",
    "    return y_pred_test"
   ]
  },
  {
   "cell_type": "markdown",
   "id": "35157427",
   "metadata": {},
   "source": [
    "## Decision Tree"
   ]
  },
  {
   "cell_type": "code",
   "execution_count": 65,
   "id": "b73ff6a2",
   "metadata": {},
   "outputs": [
    {
     "data": {
      "text/html": [
       "<style>#sk-container-id-1 {color: black;background-color: white;}#sk-container-id-1 pre{padding: 0;}#sk-container-id-1 div.sk-toggleable {background-color: white;}#sk-container-id-1 label.sk-toggleable__label {cursor: pointer;display: block;width: 100%;margin-bottom: 0;padding: 0.3em;box-sizing: border-box;text-align: center;}#sk-container-id-1 label.sk-toggleable__label-arrow:before {content: \"▸\";float: left;margin-right: 0.25em;color: #696969;}#sk-container-id-1 label.sk-toggleable__label-arrow:hover:before {color: black;}#sk-container-id-1 div.sk-estimator:hover label.sk-toggleable__label-arrow:before {color: black;}#sk-container-id-1 div.sk-toggleable__content {max-height: 0;max-width: 0;overflow: hidden;text-align: left;background-color: #f0f8ff;}#sk-container-id-1 div.sk-toggleable__content pre {margin: 0.2em;color: black;border-radius: 0.25em;background-color: #f0f8ff;}#sk-container-id-1 input.sk-toggleable__control:checked~div.sk-toggleable__content {max-height: 200px;max-width: 100%;overflow: auto;}#sk-container-id-1 input.sk-toggleable__control:checked~label.sk-toggleable__label-arrow:before {content: \"▾\";}#sk-container-id-1 div.sk-estimator input.sk-toggleable__control:checked~label.sk-toggleable__label {background-color: #d4ebff;}#sk-container-id-1 div.sk-label input.sk-toggleable__control:checked~label.sk-toggleable__label {background-color: #d4ebff;}#sk-container-id-1 input.sk-hidden--visually {border: 0;clip: rect(1px 1px 1px 1px);clip: rect(1px, 1px, 1px, 1px);height: 1px;margin: -1px;overflow: hidden;padding: 0;position: absolute;width: 1px;}#sk-container-id-1 div.sk-estimator {font-family: monospace;background-color: #f0f8ff;border: 1px dotted black;border-radius: 0.25em;box-sizing: border-box;margin-bottom: 0.5em;}#sk-container-id-1 div.sk-estimator:hover {background-color: #d4ebff;}#sk-container-id-1 div.sk-parallel-item::after {content: \"\";width: 100%;border-bottom: 1px solid gray;flex-grow: 1;}#sk-container-id-1 div.sk-label:hover label.sk-toggleable__label {background-color: #d4ebff;}#sk-container-id-1 div.sk-serial::before {content: \"\";position: absolute;border-left: 1px solid gray;box-sizing: border-box;top: 0;bottom: 0;left: 50%;z-index: 0;}#sk-container-id-1 div.sk-serial {display: flex;flex-direction: column;align-items: center;background-color: white;padding-right: 0.2em;padding-left: 0.2em;position: relative;}#sk-container-id-1 div.sk-item {position: relative;z-index: 1;}#sk-container-id-1 div.sk-parallel {display: flex;align-items: stretch;justify-content: center;background-color: white;position: relative;}#sk-container-id-1 div.sk-item::before, #sk-container-id-1 div.sk-parallel-item::before {content: \"\";position: absolute;border-left: 1px solid gray;box-sizing: border-box;top: 0;bottom: 0;left: 50%;z-index: -1;}#sk-container-id-1 div.sk-parallel-item {display: flex;flex-direction: column;z-index: 1;position: relative;background-color: white;}#sk-container-id-1 div.sk-parallel-item:first-child::after {align-self: flex-end;width: 50%;}#sk-container-id-1 div.sk-parallel-item:last-child::after {align-self: flex-start;width: 50%;}#sk-container-id-1 div.sk-parallel-item:only-child::after {width: 0;}#sk-container-id-1 div.sk-dashed-wrapped {border: 1px dashed gray;margin: 0 0.4em 0.5em 0.4em;box-sizing: border-box;padding-bottom: 0.4em;background-color: white;}#sk-container-id-1 div.sk-label label {font-family: monospace;font-weight: bold;display: inline-block;line-height: 1.2em;}#sk-container-id-1 div.sk-label-container {text-align: center;}#sk-container-id-1 div.sk-container {/* jupyter's `normalize.less` sets `[hidden] { display: none; }` but bootstrap.min.css set `[hidden] { display: none !important; }` so we also need the `!important` here to be able to override the default hidden behavior on the sphinx rendered scikit-learn.org. See: https://github.com/scikit-learn/scikit-learn/issues/21755 */display: inline-block !important;position: relative;}#sk-container-id-1 div.sk-text-repr-fallback {display: none;}</style><div id=\"sk-container-id-1\" class=\"sk-top-container\"><div class=\"sk-text-repr-fallback\"><pre>DecisionTreeClassifier(max_depth=5, max_leaf_nodes=17)</pre><b>In a Jupyter environment, please rerun this cell to show the HTML representation or trust the notebook. <br />On GitHub, the HTML representation is unable to render, please try loading this page with nbviewer.org.</b></div><div class=\"sk-container\" hidden><div class=\"sk-item\"><div class=\"sk-estimator sk-toggleable\"><input class=\"sk-toggleable__control sk-hidden--visually\" id=\"sk-estimator-id-1\" type=\"checkbox\" checked><label for=\"sk-estimator-id-1\" class=\"sk-toggleable__label sk-toggleable__label-arrow\">DecisionTreeClassifier</label><div class=\"sk-toggleable__content\"><pre>DecisionTreeClassifier(max_depth=5, max_leaf_nodes=17)</pre></div></div></div></div></div>"
      ],
      "text/plain": [
       "DecisionTreeClassifier(max_depth=5, max_leaf_nodes=17)"
      ]
     },
     "execution_count": 65,
     "metadata": {},
     "output_type": "execute_result"
    }
   ],
   "source": [
    "dectree = DecisionTreeClassifier(max_depth=5, max_leaf_nodes=17)\n",
    "dectree.fit(X_train, y_train)"
   ]
  },
  {
   "cell_type": "code",
   "execution_count": 66,
   "id": "29a17591",
   "metadata": {},
   "outputs": [
    {
     "name": "stdout",
     "output_type": "stream",
     "text": [
      "----- Train -----\n",
      "Misclassified samples: 14913\n",
      "Accuracy: 0.04\n",
      "Precision: 0.02\n",
      "Recall: 0.04\n",
      "F1: 0.02\n",
      "\n",
      "----- Test -----\n",
      "Misclassified samples: 3776\n",
      "Accuracy: 0.03\n",
      "Precision: 0.01\n",
      "Recall: 0.03\n",
      "F1: 0.01\n"
     ]
    },
    {
     "name": "stderr",
     "output_type": "stream",
     "text": [
      "/Users/mane/Library/Python/3.9/lib/python/site-packages/sklearn/metrics/_classification.py:1344: UndefinedMetricWarning: Precision is ill-defined and being set to 0.0 in labels with no predicted samples. Use `zero_division` parameter to control this behavior.\n",
      "  _warn_prf(average, modifier, msg_start, len(result))\n",
      "/Users/mane/Library/Python/3.9/lib/python/site-packages/sklearn/metrics/_classification.py:1344: UndefinedMetricWarning: Precision is ill-defined and being set to 0.0 in labels with no predicted samples. Use `zero_division` parameter to control this behavior.\n",
      "  _warn_prf(average, modifier, msg_start, len(result))\n"
     ]
    },
    {
     "data": {
      "text/plain": [
       "array([30,  3, 30, ...,  3, 16,  8])"
      ]
     },
     "execution_count": 66,
     "metadata": {},
     "output_type": "execute_result"
    }
   ],
   "source": [
    "pred_metrics(dectree, X_train, y_train, X_test, y_test)"
   ]
  },
  {
   "cell_type": "markdown",
   "id": "56a550e4",
   "metadata": {},
   "source": [
    "## Support Vector Machine"
   ]
  },
  {
   "cell_type": "code",
   "execution_count": 67,
   "id": "6b423a75",
   "metadata": {},
   "outputs": [],
   "source": [
    "svm_m = svm.SVC().fit(X_train, y_train)"
   ]
  },
  {
   "cell_type": "code",
   "execution_count": 68,
   "id": "d4a662a5",
   "metadata": {},
   "outputs": [
    {
     "name": "stdout",
     "output_type": "stream",
     "text": [
      "----- Train -----\n",
      "Misclassified samples: 14941\n",
      "Accuracy: 0.04\n",
      "Precision: 0.06\n",
      "Recall: 0.04\n",
      "F1: 0.02\n",
      "\n",
      "----- Test -----\n"
     ]
    },
    {
     "name": "stderr",
     "output_type": "stream",
     "text": [
      "/Users/mane/Library/Python/3.9/lib/python/site-packages/sklearn/metrics/_classification.py:1344: UndefinedMetricWarning: Precision is ill-defined and being set to 0.0 in labels with no predicted samples. Use `zero_division` parameter to control this behavior.\n",
      "  _warn_prf(average, modifier, msg_start, len(result))\n"
     ]
    },
    {
     "name": "stdout",
     "output_type": "stream",
     "text": [
      "Misclassified samples: 3806\n",
      "Accuracy: 0.02\n",
      "Precision: 0.01\n",
      "Recall: 0.02\n",
      "F1: 0.01\n"
     ]
    },
    {
     "name": "stderr",
     "output_type": "stream",
     "text": [
      "/Users/mane/Library/Python/3.9/lib/python/site-packages/sklearn/metrics/_classification.py:1344: UndefinedMetricWarning: Precision is ill-defined and being set to 0.0 in labels with no predicted samples. Use `zero_division` parameter to control this behavior.\n",
      "  _warn_prf(average, modifier, msg_start, len(result))\n"
     ]
    },
    {
     "data": {
      "text/plain": [
       "array([20, 17, 31, ...,  8,  6, 23])"
      ]
     },
     "execution_count": 68,
     "metadata": {},
     "output_type": "execute_result"
    }
   ],
   "source": [
    "pred_metrics(svm_m, X_train, y_train, X_test, y_test)"
   ]
  },
  {
   "cell_type": "markdown",
   "id": "9ac8396e",
   "metadata": {},
   "source": [
    "## Random Forest"
   ]
  },
  {
   "cell_type": "code",
   "execution_count": 69,
   "id": "0af2c474",
   "metadata": {},
   "outputs": [
    {
     "data": {
      "text/html": [
       "<style>#sk-container-id-2 {color: black;background-color: white;}#sk-container-id-2 pre{padding: 0;}#sk-container-id-2 div.sk-toggleable {background-color: white;}#sk-container-id-2 label.sk-toggleable__label {cursor: pointer;display: block;width: 100%;margin-bottom: 0;padding: 0.3em;box-sizing: border-box;text-align: center;}#sk-container-id-2 label.sk-toggleable__label-arrow:before {content: \"▸\";float: left;margin-right: 0.25em;color: #696969;}#sk-container-id-2 label.sk-toggleable__label-arrow:hover:before {color: black;}#sk-container-id-2 div.sk-estimator:hover label.sk-toggleable__label-arrow:before {color: black;}#sk-container-id-2 div.sk-toggleable__content {max-height: 0;max-width: 0;overflow: hidden;text-align: left;background-color: #f0f8ff;}#sk-container-id-2 div.sk-toggleable__content pre {margin: 0.2em;color: black;border-radius: 0.25em;background-color: #f0f8ff;}#sk-container-id-2 input.sk-toggleable__control:checked~div.sk-toggleable__content {max-height: 200px;max-width: 100%;overflow: auto;}#sk-container-id-2 input.sk-toggleable__control:checked~label.sk-toggleable__label-arrow:before {content: \"▾\";}#sk-container-id-2 div.sk-estimator input.sk-toggleable__control:checked~label.sk-toggleable__label {background-color: #d4ebff;}#sk-container-id-2 div.sk-label input.sk-toggleable__control:checked~label.sk-toggleable__label {background-color: #d4ebff;}#sk-container-id-2 input.sk-hidden--visually {border: 0;clip: rect(1px 1px 1px 1px);clip: rect(1px, 1px, 1px, 1px);height: 1px;margin: -1px;overflow: hidden;padding: 0;position: absolute;width: 1px;}#sk-container-id-2 div.sk-estimator {font-family: monospace;background-color: #f0f8ff;border: 1px dotted black;border-radius: 0.25em;box-sizing: border-box;margin-bottom: 0.5em;}#sk-container-id-2 div.sk-estimator:hover {background-color: #d4ebff;}#sk-container-id-2 div.sk-parallel-item::after {content: \"\";width: 100%;border-bottom: 1px solid gray;flex-grow: 1;}#sk-container-id-2 div.sk-label:hover label.sk-toggleable__label {background-color: #d4ebff;}#sk-container-id-2 div.sk-serial::before {content: \"\";position: absolute;border-left: 1px solid gray;box-sizing: border-box;top: 0;bottom: 0;left: 50%;z-index: 0;}#sk-container-id-2 div.sk-serial {display: flex;flex-direction: column;align-items: center;background-color: white;padding-right: 0.2em;padding-left: 0.2em;position: relative;}#sk-container-id-2 div.sk-item {position: relative;z-index: 1;}#sk-container-id-2 div.sk-parallel {display: flex;align-items: stretch;justify-content: center;background-color: white;position: relative;}#sk-container-id-2 div.sk-item::before, #sk-container-id-2 div.sk-parallel-item::before {content: \"\";position: absolute;border-left: 1px solid gray;box-sizing: border-box;top: 0;bottom: 0;left: 50%;z-index: -1;}#sk-container-id-2 div.sk-parallel-item {display: flex;flex-direction: column;z-index: 1;position: relative;background-color: white;}#sk-container-id-2 div.sk-parallel-item:first-child::after {align-self: flex-end;width: 50%;}#sk-container-id-2 div.sk-parallel-item:last-child::after {align-self: flex-start;width: 50%;}#sk-container-id-2 div.sk-parallel-item:only-child::after {width: 0;}#sk-container-id-2 div.sk-dashed-wrapped {border: 1px dashed gray;margin: 0 0.4em 0.5em 0.4em;box-sizing: border-box;padding-bottom: 0.4em;background-color: white;}#sk-container-id-2 div.sk-label label {font-family: monospace;font-weight: bold;display: inline-block;line-height: 1.2em;}#sk-container-id-2 div.sk-label-container {text-align: center;}#sk-container-id-2 div.sk-container {/* jupyter's `normalize.less` sets `[hidden] { display: none; }` but bootstrap.min.css set `[hidden] { display: none !important; }` so we also need the `!important` here to be able to override the default hidden behavior on the sphinx rendered scikit-learn.org. See: https://github.com/scikit-learn/scikit-learn/issues/21755 */display: inline-block !important;position: relative;}#sk-container-id-2 div.sk-text-repr-fallback {display: none;}</style><div id=\"sk-container-id-2\" class=\"sk-top-container\"><div class=\"sk-text-repr-fallback\"><pre>RandomForestClassifier(max_depth=5, max_leaf_nodes=17, random_state=0)</pre><b>In a Jupyter environment, please rerun this cell to show the HTML representation or trust the notebook. <br />On GitHub, the HTML representation is unable to render, please try loading this page with nbviewer.org.</b></div><div class=\"sk-container\" hidden><div class=\"sk-item\"><div class=\"sk-estimator sk-toggleable\"><input class=\"sk-toggleable__control sk-hidden--visually\" id=\"sk-estimator-id-2\" type=\"checkbox\" checked><label for=\"sk-estimator-id-2\" class=\"sk-toggleable__label sk-toggleable__label-arrow\">RandomForestClassifier</label><div class=\"sk-toggleable__content\"><pre>RandomForestClassifier(max_depth=5, max_leaf_nodes=17, random_state=0)</pre></div></div></div></div></div>"
      ],
      "text/plain": [
       "RandomForestClassifier(max_depth=5, max_leaf_nodes=17, random_state=0)"
      ]
     },
     "execution_count": 69,
     "metadata": {},
     "output_type": "execute_result"
    }
   ],
   "source": [
    "rfc = RandomForestClassifier(n_estimators=100, max_depth=5, max_leaf_nodes=17, random_state=0)\n",
    "rfc.fit(X_train, y_train)"
   ]
  },
  {
   "cell_type": "code",
   "execution_count": 70,
   "id": "b3a3b5b4",
   "metadata": {},
   "outputs": [
    {
     "name": "stdout",
     "output_type": "stream",
     "text": [
      "----- Train -----\n",
      "Misclassified samples: 14047\n",
      "Accuracy: 0.10\n",
      "Precision: 0.22\n",
      "Recall: 0.10\n",
      "F1: 0.08\n",
      "\n",
      "----- Test -----\n",
      "Misclassified samples: 3778\n",
      "Accuracy: 0.03\n",
      "Precision: 0.02\n",
      "Recall: 0.03\n",
      "F1: 0.02\n"
     ]
    },
    {
     "name": "stderr",
     "output_type": "stream",
     "text": [
      "/Users/mane/Library/Python/3.9/lib/python/site-packages/sklearn/metrics/_classification.py:1344: UndefinedMetricWarning: Precision is ill-defined and being set to 0.0 in labels with no predicted samples. Use `zero_division` parameter to control this behavior.\n",
      "  _warn_prf(average, modifier, msg_start, len(result))\n"
     ]
    },
    {
     "data": {
      "text/plain": [
       "array([15, 23, 31, ..., 17, 13,  7])"
      ]
     },
     "execution_count": 70,
     "metadata": {},
     "output_type": "execute_result"
    }
   ],
   "source": [
    "pred_metrics(rfc, X_train, y_train, X_test, y_test)"
   ]
  },
  {
   "cell_type": "markdown",
   "id": "bc8801d5",
   "metadata": {},
   "source": [
    "## K-Nearest Neighbors"
   ]
  },
  {
   "cell_type": "code",
   "execution_count": 71,
   "id": "fb422314",
   "metadata": {},
   "outputs": [
    {
     "data": {
      "text/html": [
       "<style>#sk-container-id-3 {color: black;background-color: white;}#sk-container-id-3 pre{padding: 0;}#sk-container-id-3 div.sk-toggleable {background-color: white;}#sk-container-id-3 label.sk-toggleable__label {cursor: pointer;display: block;width: 100%;margin-bottom: 0;padding: 0.3em;box-sizing: border-box;text-align: center;}#sk-container-id-3 label.sk-toggleable__label-arrow:before {content: \"▸\";float: left;margin-right: 0.25em;color: #696969;}#sk-container-id-3 label.sk-toggleable__label-arrow:hover:before {color: black;}#sk-container-id-3 div.sk-estimator:hover label.sk-toggleable__label-arrow:before {color: black;}#sk-container-id-3 div.sk-toggleable__content {max-height: 0;max-width: 0;overflow: hidden;text-align: left;background-color: #f0f8ff;}#sk-container-id-3 div.sk-toggleable__content pre {margin: 0.2em;color: black;border-radius: 0.25em;background-color: #f0f8ff;}#sk-container-id-3 input.sk-toggleable__control:checked~div.sk-toggleable__content {max-height: 200px;max-width: 100%;overflow: auto;}#sk-container-id-3 input.sk-toggleable__control:checked~label.sk-toggleable__label-arrow:before {content: \"▾\";}#sk-container-id-3 div.sk-estimator input.sk-toggleable__control:checked~label.sk-toggleable__label {background-color: #d4ebff;}#sk-container-id-3 div.sk-label input.sk-toggleable__control:checked~label.sk-toggleable__label {background-color: #d4ebff;}#sk-container-id-3 input.sk-hidden--visually {border: 0;clip: rect(1px 1px 1px 1px);clip: rect(1px, 1px, 1px, 1px);height: 1px;margin: -1px;overflow: hidden;padding: 0;position: absolute;width: 1px;}#sk-container-id-3 div.sk-estimator {font-family: monospace;background-color: #f0f8ff;border: 1px dotted black;border-radius: 0.25em;box-sizing: border-box;margin-bottom: 0.5em;}#sk-container-id-3 div.sk-estimator:hover {background-color: #d4ebff;}#sk-container-id-3 div.sk-parallel-item::after {content: \"\";width: 100%;border-bottom: 1px solid gray;flex-grow: 1;}#sk-container-id-3 div.sk-label:hover label.sk-toggleable__label {background-color: #d4ebff;}#sk-container-id-3 div.sk-serial::before {content: \"\";position: absolute;border-left: 1px solid gray;box-sizing: border-box;top: 0;bottom: 0;left: 50%;z-index: 0;}#sk-container-id-3 div.sk-serial {display: flex;flex-direction: column;align-items: center;background-color: white;padding-right: 0.2em;padding-left: 0.2em;position: relative;}#sk-container-id-3 div.sk-item {position: relative;z-index: 1;}#sk-container-id-3 div.sk-parallel {display: flex;align-items: stretch;justify-content: center;background-color: white;position: relative;}#sk-container-id-3 div.sk-item::before, #sk-container-id-3 div.sk-parallel-item::before {content: \"\";position: absolute;border-left: 1px solid gray;box-sizing: border-box;top: 0;bottom: 0;left: 50%;z-index: -1;}#sk-container-id-3 div.sk-parallel-item {display: flex;flex-direction: column;z-index: 1;position: relative;background-color: white;}#sk-container-id-3 div.sk-parallel-item:first-child::after {align-self: flex-end;width: 50%;}#sk-container-id-3 div.sk-parallel-item:last-child::after {align-self: flex-start;width: 50%;}#sk-container-id-3 div.sk-parallel-item:only-child::after {width: 0;}#sk-container-id-3 div.sk-dashed-wrapped {border: 1px dashed gray;margin: 0 0.4em 0.5em 0.4em;box-sizing: border-box;padding-bottom: 0.4em;background-color: white;}#sk-container-id-3 div.sk-label label {font-family: monospace;font-weight: bold;display: inline-block;line-height: 1.2em;}#sk-container-id-3 div.sk-label-container {text-align: center;}#sk-container-id-3 div.sk-container {/* jupyter's `normalize.less` sets `[hidden] { display: none; }` but bootstrap.min.css set `[hidden] { display: none !important; }` so we also need the `!important` here to be able to override the default hidden behavior on the sphinx rendered scikit-learn.org. See: https://github.com/scikit-learn/scikit-learn/issues/21755 */display: inline-block !important;position: relative;}#sk-container-id-3 div.sk-text-repr-fallback {display: none;}</style><div id=\"sk-container-id-3\" class=\"sk-top-container\"><div class=\"sk-text-repr-fallback\"><pre>KNeighborsClassifier()</pre><b>In a Jupyter environment, please rerun this cell to show the HTML representation or trust the notebook. <br />On GitHub, the HTML representation is unable to render, please try loading this page with nbviewer.org.</b></div><div class=\"sk-container\" hidden><div class=\"sk-item\"><div class=\"sk-estimator sk-toggleable\"><input class=\"sk-toggleable__control sk-hidden--visually\" id=\"sk-estimator-id-3\" type=\"checkbox\" checked><label for=\"sk-estimator-id-3\" class=\"sk-toggleable__label sk-toggleable__label-arrow\">KNeighborsClassifier</label><div class=\"sk-toggleable__content\"><pre>KNeighborsClassifier()</pre></div></div></div></div></div>"
      ],
      "text/plain": [
       "KNeighborsClassifier()"
      ]
     },
     "execution_count": 71,
     "metadata": {},
     "output_type": "execute_result"
    }
   ],
   "source": [
    "knn = KNeighborsClassifier(n_neighbors=5)\n",
    "knn.fit(X_train, y_train)"
   ]
  },
  {
   "cell_type": "code",
   "execution_count": 72,
   "id": "a7160f06",
   "metadata": {},
   "outputs": [
    {
     "name": "stdout",
     "output_type": "stream",
     "text": [
      "----- Train -----\n",
      "Misclassified samples: 11583\n",
      "Accuracy: 0.26\n",
      "Precision: 0.31\n",
      "Recall: 0.26\n",
      "F1: 0.22\n",
      "\n",
      "----- Test -----\n",
      "Misclassified samples: 3760\n",
      "Accuracy: 0.04\n",
      "Precision: 0.04\n",
      "Recall: 0.04\n",
      "F1: 0.03\n"
     ]
    },
    {
     "data": {
      "text/plain": [
       "array([5, 4, 0, ..., 1, 0, 4])"
      ]
     },
     "execution_count": 72,
     "metadata": {},
     "output_type": "execute_result"
    }
   ],
   "source": [
    "pred_metrics(knn, X_train, y_train, X_test, y_test)"
   ]
  },
  {
   "cell_type": "markdown",
   "id": "939f46b5",
   "metadata": {},
   "source": [
    "## Gradient Boosting "
   ]
  },
  {
   "cell_type": "code",
   "execution_count": 73,
   "id": "33372ac7",
   "metadata": {},
   "outputs": [
    {
     "data": {
      "text/html": [
       "<style>#sk-container-id-4 {color: black;background-color: white;}#sk-container-id-4 pre{padding: 0;}#sk-container-id-4 div.sk-toggleable {background-color: white;}#sk-container-id-4 label.sk-toggleable__label {cursor: pointer;display: block;width: 100%;margin-bottom: 0;padding: 0.3em;box-sizing: border-box;text-align: center;}#sk-container-id-4 label.sk-toggleable__label-arrow:before {content: \"▸\";float: left;margin-right: 0.25em;color: #696969;}#sk-container-id-4 label.sk-toggleable__label-arrow:hover:before {color: black;}#sk-container-id-4 div.sk-estimator:hover label.sk-toggleable__label-arrow:before {color: black;}#sk-container-id-4 div.sk-toggleable__content {max-height: 0;max-width: 0;overflow: hidden;text-align: left;background-color: #f0f8ff;}#sk-container-id-4 div.sk-toggleable__content pre {margin: 0.2em;color: black;border-radius: 0.25em;background-color: #f0f8ff;}#sk-container-id-4 input.sk-toggleable__control:checked~div.sk-toggleable__content {max-height: 200px;max-width: 100%;overflow: auto;}#sk-container-id-4 input.sk-toggleable__control:checked~label.sk-toggleable__label-arrow:before {content: \"▾\";}#sk-container-id-4 div.sk-estimator input.sk-toggleable__control:checked~label.sk-toggleable__label {background-color: #d4ebff;}#sk-container-id-4 div.sk-label input.sk-toggleable__control:checked~label.sk-toggleable__label {background-color: #d4ebff;}#sk-container-id-4 input.sk-hidden--visually {border: 0;clip: rect(1px 1px 1px 1px);clip: rect(1px, 1px, 1px, 1px);height: 1px;margin: -1px;overflow: hidden;padding: 0;position: absolute;width: 1px;}#sk-container-id-4 div.sk-estimator {font-family: monospace;background-color: #f0f8ff;border: 1px dotted black;border-radius: 0.25em;box-sizing: border-box;margin-bottom: 0.5em;}#sk-container-id-4 div.sk-estimator:hover {background-color: #d4ebff;}#sk-container-id-4 div.sk-parallel-item::after {content: \"\";width: 100%;border-bottom: 1px solid gray;flex-grow: 1;}#sk-container-id-4 div.sk-label:hover label.sk-toggleable__label {background-color: #d4ebff;}#sk-container-id-4 div.sk-serial::before {content: \"\";position: absolute;border-left: 1px solid gray;box-sizing: border-box;top: 0;bottom: 0;left: 50%;z-index: 0;}#sk-container-id-4 div.sk-serial {display: flex;flex-direction: column;align-items: center;background-color: white;padding-right: 0.2em;padding-left: 0.2em;position: relative;}#sk-container-id-4 div.sk-item {position: relative;z-index: 1;}#sk-container-id-4 div.sk-parallel {display: flex;align-items: stretch;justify-content: center;background-color: white;position: relative;}#sk-container-id-4 div.sk-item::before, #sk-container-id-4 div.sk-parallel-item::before {content: \"\";position: absolute;border-left: 1px solid gray;box-sizing: border-box;top: 0;bottom: 0;left: 50%;z-index: -1;}#sk-container-id-4 div.sk-parallel-item {display: flex;flex-direction: column;z-index: 1;position: relative;background-color: white;}#sk-container-id-4 div.sk-parallel-item:first-child::after {align-self: flex-end;width: 50%;}#sk-container-id-4 div.sk-parallel-item:last-child::after {align-self: flex-start;width: 50%;}#sk-container-id-4 div.sk-parallel-item:only-child::after {width: 0;}#sk-container-id-4 div.sk-dashed-wrapped {border: 1px dashed gray;margin: 0 0.4em 0.5em 0.4em;box-sizing: border-box;padding-bottom: 0.4em;background-color: white;}#sk-container-id-4 div.sk-label label {font-family: monospace;font-weight: bold;display: inline-block;line-height: 1.2em;}#sk-container-id-4 div.sk-label-container {text-align: center;}#sk-container-id-4 div.sk-container {/* jupyter's `normalize.less` sets `[hidden] { display: none; }` but bootstrap.min.css set `[hidden] { display: none !important; }` so we also need the `!important` here to be able to override the default hidden behavior on the sphinx rendered scikit-learn.org. See: https://github.com/scikit-learn/scikit-learn/issues/21755 */display: inline-block !important;position: relative;}#sk-container-id-4 div.sk-text-repr-fallback {display: none;}</style><div id=\"sk-container-id-4\" class=\"sk-top-container\"><div class=\"sk-text-repr-fallback\"><pre>GradientBoostingClassifier()</pre><b>In a Jupyter environment, please rerun this cell to show the HTML representation or trust the notebook. <br />On GitHub, the HTML representation is unable to render, please try loading this page with nbviewer.org.</b></div><div class=\"sk-container\" hidden><div class=\"sk-item\"><div class=\"sk-estimator sk-toggleable\"><input class=\"sk-toggleable__control sk-hidden--visually\" id=\"sk-estimator-id-4\" type=\"checkbox\" checked><label for=\"sk-estimator-id-4\" class=\"sk-toggleable__label sk-toggleable__label-arrow\">GradientBoostingClassifier</label><div class=\"sk-toggleable__content\"><pre>GradientBoostingClassifier()</pre></div></div></div></div></div>"
      ],
      "text/plain": [
       "GradientBoostingClassifier()"
      ]
     },
     "execution_count": 73,
     "metadata": {},
     "output_type": "execute_result"
    }
   ],
   "source": [
    "gb = GradientBoostingClassifier(n_estimators=100, learning_rate=0.1, max_depth=3)\n",
    "gb.fit(X_train, y_train)"
   ]
  },
  {
   "cell_type": "code",
   "execution_count": 74,
   "id": "2a23dbdb",
   "metadata": {},
   "outputs": [
    {
     "name": "stdout",
     "output_type": "stream",
     "text": [
      "----- Train -----\n",
      "Misclassified samples: 13104\n",
      "Accuracy: 0.16\n",
      "Precision: 0.16\n",
      "Recall: 0.16\n",
      "F1: 0.16\n",
      "\n",
      "----- Test -----\n",
      "Misclassified samples: 3787\n",
      "Accuracy: 0.03\n",
      "Precision: 0.03\n",
      "Recall: 0.03\n",
      "F1: 0.03\n"
     ]
    },
    {
     "data": {
      "text/plain": [
       "array([30, 23, 15, ..., 32, 13,  7])"
      ]
     },
     "execution_count": 74,
     "metadata": {},
     "output_type": "execute_result"
    }
   ],
   "source": [
    "pred_metrics(gb, X_train, y_train, X_test, y_test)"
   ]
  },
  {
   "cell_type": "markdown",
   "id": "83706e84",
   "metadata": {},
   "source": [
    "## Choosing the best model"
   ]
  },
  {
   "cell_type": "code",
   "execution_count": 75,
   "id": "041d6606",
   "metadata": {},
   "outputs": [
    {
     "data": {
      "text/plain": [
       "['best_model.joblib']"
      ]
     },
     "execution_count": 75,
     "metadata": {},
     "output_type": "execute_result"
    }
   ],
   "source": [
    "joblib.dump(gb, \"best_model.joblib\")"
   ]
  },
  {
   "cell_type": "code",
   "execution_count": 76,
   "id": "ffd1b5f7",
   "metadata": {},
   "outputs": [
    {
     "data": {
      "text/plain": [
       "['encoders.joblib']"
      ]
     },
     "execution_count": 76,
     "metadata": {},
     "output_type": "execute_result"
    }
   ],
   "source": [
    "joblib.dump(label_encoders, \"encoders.joblib\")"
   ]
  },
  {
   "cell_type": "markdown",
   "id": "eecd14c3",
   "metadata": {},
   "source": [
    "## Testing"
   ]
  },
  {
   "cell_type": "code",
   "execution_count": 77,
   "id": "41e02a39",
   "metadata": {},
   "outputs": [
    {
     "data": {
      "text/plain": [
       "{'Hours working per day': 4,\n",
       " 'public speaking points': 3,\n",
       " 'self-learning capability?': 'no',\n",
       " 'Extra-courses did': 'yes',\n",
       " 'reading and writing skills': 'poor',\n",
       " 'memory capability score': 'excellent',\n",
       " 'Interested subjects': 'Computer Architecture',\n",
       " 'interested in games': 'yes',\n",
       " 'Interested Type of Books': 'Cookbooks',\n",
       " 'Gentle or Tuff behaviour?': 'stubborn',\n",
       " 'Management or Technical': 'Management',\n",
       " 'Salary/work': 'work',\n",
       " 'hard/smart worker': 'hard worker',\n",
       " 'worked in teams ever?': 'yes',\n",
       " 'Introvert': 'yes',\n",
       " 'Suggested Job Role': 'Business Systems Analyst'}"
      ]
     },
     "execution_count": 77,
     "metadata": {},
     "output_type": "execute_result"
    }
   ],
   "source": [
    "input_data = {'Hours working per day': 4,\n",
    " 'public speaking points': 3,\n",
    " 'self-learning capability?': 'no',\n",
    " 'Extra-courses did': 'yes',\n",
    " 'reading and writing skills': 'poor',\n",
    " 'memory capability score': 'excellent',\n",
    " 'Interested subjects': 'Computer Architecture',\n",
    " 'interested in games': 'yes',\n",
    " 'Interested Type of Books': 'Cookbooks',\n",
    " 'Gentle or Tuff behaviour?': 'stubborn',\n",
    " 'Management or Technical': 'Management',\n",
    " 'Salary/work': 'work',\n",
    " 'hard/smart worker': 'hard worker',\n",
    " 'worked in teams ever?': 'yes',\n",
    " 'Introvert': 'yes',\n",
    " 'Suggested Job Role': 'Business Systems Analyst'}\n",
    "input_data"
   ]
  },
  {
   "cell_type": "code",
   "execution_count": 78,
   "id": "68102b10",
   "metadata": {},
   "outputs": [],
   "source": [
    "input_col_list = col_list_obj[:-1]"
   ]
  },
  {
   "cell_type": "code",
   "execution_count": 79,
   "id": "dde4936c",
   "metadata": {},
   "outputs": [
    {
     "data": {
      "text/html": [
       "<div>\n",
       "<style scoped>\n",
       "    .dataframe tbody tr th:only-of-type {\n",
       "        vertical-align: middle;\n",
       "    }\n",
       "\n",
       "    .dataframe tbody tr th {\n",
       "        vertical-align: top;\n",
       "    }\n",
       "\n",
       "    .dataframe thead th {\n",
       "        text-align: right;\n",
       "    }\n",
       "</style>\n",
       "<table border=\"1\" class=\"dataframe\">\n",
       "  <thead>\n",
       "    <tr style=\"text-align: right;\">\n",
       "      <th></th>\n",
       "      <th>Hours working per day</th>\n",
       "      <th>public speaking points</th>\n",
       "      <th>self-learning capability?</th>\n",
       "      <th>Extra-courses did</th>\n",
       "      <th>reading and writing skills</th>\n",
       "      <th>memory capability score</th>\n",
       "      <th>Interested subjects</th>\n",
       "      <th>interested in games</th>\n",
       "      <th>Interested Type of Books</th>\n",
       "      <th>Gentle or Tuff behaviour?</th>\n",
       "      <th>Management or Technical</th>\n",
       "      <th>Salary/work</th>\n",
       "      <th>hard/smart worker</th>\n",
       "      <th>worked in teams ever?</th>\n",
       "      <th>Introvert</th>\n",
       "      <th>Suggested Job Role</th>\n",
       "    </tr>\n",
       "  </thead>\n",
       "  <tbody>\n",
       "    <tr>\n",
       "      <th>0</th>\n",
       "      <td>4</td>\n",
       "      <td>3</td>\n",
       "      <td>0</td>\n",
       "      <td>1</td>\n",
       "      <td>2</td>\n",
       "      <td>0</td>\n",
       "      <td>0</td>\n",
       "      <td>1</td>\n",
       "      <td>7</td>\n",
       "      <td>1</td>\n",
       "      <td>0</td>\n",
       "      <td>1</td>\n",
       "      <td>0</td>\n",
       "      <td>1</td>\n",
       "      <td>1</td>\n",
       "      <td>2</td>\n",
       "    </tr>\n",
       "  </tbody>\n",
       "</table>\n",
       "</div>"
      ],
      "text/plain": [
       "   Hours working per day  public speaking points  self-learning capability?   \n",
       "0                      4                       3                          0  \\\n",
       "\n",
       "   Extra-courses did  reading and writing skills  memory capability score   \n",
       "0                  1                           2                        0  \\\n",
       "\n",
       "   Interested subjects  interested in games  Interested Type of Books   \n",
       "0                    0                    1                         7  \\\n",
       "\n",
       "   Gentle or Tuff behaviour?  Management or Technical  Salary/work   \n",
       "0                          1                        0            1  \\\n",
       "\n",
       "   hard/smart worker  worked in teams ever?  Introvert  Suggested Job Role  \n",
       "0                  0                      1          1                   2  "
      ]
     },
     "execution_count": 79,
     "metadata": {},
     "output_type": "execute_result"
    }
   ],
   "source": [
    "input_df = pd.DataFrame([input_data])\n",
    "input_encoded = label_encode_columns_w_fit_encoders(df=input_df, columns=col_list_obj, encoders=label_encoders)\n",
    "input_encoded"
   ]
  },
  {
   "cell_type": "code",
   "execution_count": 80,
   "id": "5ce4d318",
   "metadata": {},
   "outputs": [
    {
     "data": {
      "text/html": [
       "<div>\n",
       "<style scoped>\n",
       "    .dataframe tbody tr th:only-of-type {\n",
       "        vertical-align: middle;\n",
       "    }\n",
       "\n",
       "    .dataframe tbody tr th {\n",
       "        vertical-align: top;\n",
       "    }\n",
       "\n",
       "    .dataframe thead th {\n",
       "        text-align: right;\n",
       "    }\n",
       "</style>\n",
       "<table border=\"1\" class=\"dataframe\">\n",
       "  <thead>\n",
       "    <tr style=\"text-align: right;\">\n",
       "      <th></th>\n",
       "      <th>Extra-courses did</th>\n",
       "      <th>Gentle or Tuff behaviour?</th>\n",
       "      <th>Hours working per day</th>\n",
       "      <th>Interested Type of Books</th>\n",
       "      <th>Interested subjects</th>\n",
       "      <th>Introvert</th>\n",
       "      <th>Management or Technical</th>\n",
       "      <th>Salary/work</th>\n",
       "      <th>hard/smart worker</th>\n",
       "      <th>interested in games</th>\n",
       "      <th>memory capability score</th>\n",
       "      <th>public speaking points</th>\n",
       "      <th>reading and writing skills</th>\n",
       "      <th>self-learning capability?</th>\n",
       "      <th>worked in teams ever?</th>\n",
       "    </tr>\n",
       "  </thead>\n",
       "  <tbody>\n",
       "    <tr>\n",
       "      <th>0</th>\n",
       "      <td>1</td>\n",
       "      <td>1</td>\n",
       "      <td>4</td>\n",
       "      <td>7</td>\n",
       "      <td>0</td>\n",
       "      <td>1</td>\n",
       "      <td>0</td>\n",
       "      <td>1</td>\n",
       "      <td>0</td>\n",
       "      <td>1</td>\n",
       "      <td>0</td>\n",
       "      <td>3</td>\n",
       "      <td>2</td>\n",
       "      <td>0</td>\n",
       "      <td>1</td>\n",
       "    </tr>\n",
       "  </tbody>\n",
       "</table>\n",
       "</div>"
      ],
      "text/plain": [
       "   Extra-courses did  Gentle or Tuff behaviour?  Hours working per day   \n",
       "0                  1                          1                      4  \\\n",
       "\n",
       "   Interested Type of Books  Interested subjects  Introvert   \n",
       "0                         7                    0          1  \\\n",
       "\n",
       "   Management or Technical  Salary/work  hard/smart worker   \n",
       "0                        0            1                  0  \\\n",
       "\n",
       "   interested in games  memory capability score  public speaking points   \n",
       "0                    1                        0                       3  \\\n",
       "\n",
       "   reading and writing skills  self-learning capability?   \n",
       "0                           2                          0  \\\n",
       "\n",
       "   worked in teams ever?  \n",
       "0                      1  "
      ]
     },
     "execution_count": 80,
     "metadata": {},
     "output_type": "execute_result"
    }
   ],
   "source": [
    "input = input_encoded[df.columns.difference(['Suggested Job Role'])]\n",
    "input"
   ]
  },
  {
   "cell_type": "code",
   "execution_count": 81,
   "id": "cdc58960",
   "metadata": {},
   "outputs": [
    {
     "data": {
      "text/plain": [
       "array([10])"
      ]
     },
     "execution_count": 81,
     "metadata": {},
     "output_type": "execute_result"
    }
   ],
   "source": [
    "model = joblib.load(\"best_model.joblib\")\n",
    "predicted_label = model.predict(input)\n",
    "predicted_label"
   ]
  },
  {
   "cell_type": "code",
   "execution_count": 82,
   "id": "d316131d",
   "metadata": {},
   "outputs": [],
   "source": [
    "def decode_label(column, label, encoders):\n",
    "    le = encoders.get(column)\n",
    "    decoded_label = le.inverse_transform([label])\n",
    "\n",
    "    return decoded_label[0]"
   ]
  },
  {
   "cell_type": "code",
   "execution_count": 83,
   "id": "6f1d534e",
   "metadata": {},
   "outputs": [
    {
     "data": {
      "text/plain": [
       "'E-Commerce Analyst'"
      ]
     },
     "execution_count": 83,
     "metadata": {},
     "output_type": "execute_result"
    }
   ],
   "source": [
    "decoded_label = decode_label('Suggested Job Role', predicted_label[0], label_encoders)\n",
    "decoded_label"
   ]
  }
 ],
 "metadata": {
  "kernelspec": {
   "display_name": "Python 3 (ipykernel)",
   "language": "python",
   "name": "python3"
  },
  "language_info": {
   "codemirror_mode": {
    "name": "ipython",
    "version": 3
   },
   "file_extension": ".py",
   "mimetype": "text/x-python",
   "name": "python",
   "nbconvert_exporter": "python",
   "pygments_lexer": "ipython3",
   "version": "3.9.6"
  }
 },
 "nbformat": 4,
 "nbformat_minor": 5
}
